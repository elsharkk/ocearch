{
 "cells": [
  {
   "cell_type": "code",
   "execution_count": 32,
   "metadata": {},
   "outputs": [],
   "source": [
    "import pandas as pd"
   ]
  },
  {
   "cell_type": "code",
   "execution_count": 67,
   "metadata": {},
   "outputs": [],
   "source": [
    "filename = ''\n",
    "df = pd.read_csv(filename)"
   ]
  },
  {
   "cell_type": "code",
   "execution_count": 57,
   "metadata": {},
   "outputs": [],
   "source": [
    "# to take subset of columns as a new dataframe - how to make a new table using only those columns\n",
    "\n",
    "new_df = df[['lat', 'lng']]"
   ]
  },
  {
   "cell_type": "code",
   "execution_count": 63,
   "metadata": {},
   "outputs": [],
   "source": [
    "# to remove duplicates from an entire dataframe - how to remove duplicate rows\n",
    "\n",
    "deduped_df = df.drop_duplicates()"
   ]
  },
  {
   "cell_type": "code",
   "execution_count": 65,
   "metadata": {},
   "outputs": [],
   "source": [
    "# to extract a column\n",
    "\n",
    "all_values = list(df.lat)\n",
    "all_unique_values = list(df.lat.unique())"
   ]
  },
  {
   "cell_type": "code",
   "execution_count": null,
   "metadata": {},
   "outputs": [],
   "source": [
    "# to iterate through all the rows (slow)\n",
    "\n",
    "for row in df.itertuples():\n",
    "    print(row.lat)"
   ]
  },
  {
   "cell_type": "code",
   "execution_count": null,
   "metadata": {},
   "outputs": [],
   "source": [
    "# to sort the dataframe by one or more values\n",
    "\n",
    "sort_by_one = df.sort_values(by='lat')\n",
    "sort_by_many = df.sort_values(by=['species', 'lat'])"
   ]
  },
  {
   "cell_type": "code",
   "execution_count": null,
   "metadata": {},
   "outputs": [],
   "source": [
    "# filtering a dataframe - to onl\n",
    "\n",
    "only_female_sharks = df[df.gender == 'Female']\n",
    "only_null_weights = df[df.weight.isnull()]\n",
    "no_null_weights = df[~df.weight.isnull()]"
   ]
  },
  {
   "cell_type": "code",
   "execution_count": null,
   "metadata": {},
   "outputs": [],
   "source": [
    "# extracting a row by index\n",
    "\n",
    "top_row = df.iloc[0]\n",
    "top_weight = df.iloc[0].weight"
   ]
  },
  {
   "cell_type": "code",
   "execution_count": null,
   "metadata": {},
   "outputs": [],
   "source": [
    "# adding new columns   \n",
    "\n",
    "# adding a static value (same for all rows)\n",
    "df['static_value'] = 4\n",
    "\n",
    "# adding via a list (extracted)\n",
    "df['length_squared'] = [x*x for x in df.length]\n",
    "df['sortable_timestamp'] = [parse_timestamp(dt_str) for dt_str in df.datetime]"
   ]
  },
  {
   "cell_type": "code",
   "execution_count": null,
   "metadata": {},
   "outputs": [],
   "source": [
    "# convert to datetime\n",
    "\n",
    "sharks['datetime'] = pd.to_datetime(sharks['datetime'])\n",
    "\n",
    "#difference between days\n",
    "\n",
    "sharks.datetime[0] - sharks.datetime[1]"
   ]
  },
  {
   "cell_type": "code",
   "execution_count": null,
   "metadata": {},
   "outputs": [],
   "source": [
    "# "
   ]
  }
 ],
 "metadata": {
  "kernelspec": {
   "display_name": "Python 3",
   "language": "python",
   "name": "python3"
  },
  "language_info": {
   "codemirror_mode": {
    "name": "ipython",
    "version": 3
   },
   "file_extension": ".py",
   "mimetype": "text/x-python",
   "name": "python",
   "nbconvert_exporter": "python",
   "pygments_lexer": "ipython3",
   "version": "3.7.3"
  }
 },
 "nbformat": 4,
 "nbformat_minor": 2
}
