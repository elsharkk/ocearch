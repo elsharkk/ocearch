{
 "cells": [
  {
   "cell_type": "markdown",
   "metadata": {},
   "source": [
    "### Challenge questions\n",
    "\n",
    "Easy questions:\n",
    "\n",
    " 1. How many total pings are in the Ocearch shark data?\n",
    " 2. How many unique species of sharks are in the data set?\n",
    " 3. What is the name, weight, and species of the heaviest shark(s)?\n",
    " 4. When and where was the very first ping?\n",
    " 5. Excluding results with 0 distance traveled: what's the minimum, average, and maximum travel distances?\n",
    " \n",
    "Intermediate questions:\n",
    "\n",
    " 1. Which shark had the most pings?\n",
    " 2. Which shark has been pinging the longest, and how long has that been?\n",
    " 3. Which shark species has the most individual sharks tagged?\n",
    " 4. What is the average length and weight of each shark species?\n",
    " 5. Which shark has the biggest geographic box (largest distance from min lat/lon to max lat/lon, not dist_traveled)?\n",
    " \n",
    "Hard questions:\n",
    " 1. Use folium to plot the first ping, last ping, and a line connecting each ping for the Tiger shark Emma.  Make the first ping marker a 'play' icon, and last ping icon a 'stop' icon.\n",
    " 2. Resample Emma data to have a daily lat/lon average, and interpolate missing results.  Plot a marker for each day, and color them blue for hard data, green for interpolated lat/lons\n",
    " 3. Resample all shark data for daily lat/lon averages, and interpolate missing results\n",
    " 4. Calculate distance between Emma and other sharks on a daily basis\n",
    " 5. Identify the shark that has the shortest average distance to Emma per day (minimum 50 days of pings with Emma)\n",
    " 6. Plot Emma and her closest buddy: interpolated results for each in green, Emma as circle icons and her buddy as square icons"
   ]
  },
  {
   "cell_type": "markdown",
   "metadata": {},
   "source": [
    "### Load data"
   ]
  },
  {
   "cell_type": "code",
   "execution_count": 5,
   "metadata": {},
   "outputs": [
    {
     "data": {
      "text/plain": [
       "(65793, 12)"
      ]
     },
     "execution_count": 5,
     "metadata": {},
     "output_type": "execute_result"
    }
   ],
   "source": [
    "import pandas as pd\n",
    "import datetime as dt\n",
    "df = pd.read_csv('data/sharks.csv')\n",
    "df.shape"
   ]
  },
  {
   "cell_type": "markdown",
   "metadata": {},
   "source": [
    "#### Clean"
   ]
  },
  {
   "cell_type": "code",
   "execution_count": 6,
   "metadata": {},
   "outputs": [
    {
     "data": {
      "text/html": [
       "<div>\n",
       "<style scoped>\n",
       "    .dataframe tbody tr th:only-of-type {\n",
       "        vertical-align: middle;\n",
       "    }\n",
       "\n",
       "    .dataframe tbody tr th {\n",
       "        vertical-align: top;\n",
       "    }\n",
       "\n",
       "    .dataframe thead th {\n",
       "        text-align: right;\n",
       "    }\n",
       "</style>\n",
       "<table border=\"1\" class=\"dataframe\">\n",
       "  <thead>\n",
       "    <tr style=\"text-align: right;\">\n",
       "      <th></th>\n",
       "      <th>active</th>\n",
       "      <th>datetime</th>\n",
       "      <th>id</th>\n",
       "      <th>latitude</th>\n",
       "      <th>longitude</th>\n",
       "      <th>name</th>\n",
       "      <th>gender</th>\n",
       "      <th>species</th>\n",
       "      <th>weight</th>\n",
       "      <th>length</th>\n",
       "      <th>tagDate</th>\n",
       "      <th>dist_total</th>\n",
       "    </tr>\n",
       "  </thead>\n",
       "  <tbody>\n",
       "    <tr>\n",
       "      <th>0</th>\n",
       "      <td>1</td>\n",
       "      <td>2014-07-06 04:57:28</td>\n",
       "      <td>3</td>\n",
       "      <td>-34.606610</td>\n",
       "      <td>21.152440</td>\n",
       "      <td>Oprah</td>\n",
       "      <td>Female</td>\n",
       "      <td>White Shark (Carcharodon carcharias)</td>\n",
       "      <td>686.0</td>\n",
       "      <td>118.0</td>\n",
       "      <td>7 March 2012</td>\n",
       "      <td>2816.662</td>\n",
       "    </tr>\n",
       "    <tr>\n",
       "      <th>1</th>\n",
       "      <td>1</td>\n",
       "      <td>2014-06-23 02:40:09</td>\n",
       "      <td>3</td>\n",
       "      <td>-34.787520</td>\n",
       "      <td>19.424790</td>\n",
       "      <td>Oprah</td>\n",
       "      <td>Female</td>\n",
       "      <td>White Shark (Carcharodon carcharias)</td>\n",
       "      <td>686.0</td>\n",
       "      <td>118.0</td>\n",
       "      <td>7 March 2012</td>\n",
       "      <td>2816.662</td>\n",
       "    </tr>\n",
       "    <tr>\n",
       "      <th>2</th>\n",
       "      <td>1</td>\n",
       "      <td>2014-06-15 13:15:44</td>\n",
       "      <td>3</td>\n",
       "      <td>-34.424870</td>\n",
       "      <td>21.097540</td>\n",
       "      <td>Oprah</td>\n",
       "      <td>Female</td>\n",
       "      <td>White Shark (Carcharodon carcharias)</td>\n",
       "      <td>686.0</td>\n",
       "      <td>118.0</td>\n",
       "      <td>7 March 2012</td>\n",
       "      <td>2816.662</td>\n",
       "    </tr>\n",
       "    <tr>\n",
       "      <th>3</th>\n",
       "      <td>1</td>\n",
       "      <td>2014-06-03 02:23:57</td>\n",
       "      <td>3</td>\n",
       "      <td>-34.704323</td>\n",
       "      <td>20.210134</td>\n",
       "      <td>Oprah</td>\n",
       "      <td>Female</td>\n",
       "      <td>White Shark (Carcharodon carcharias)</td>\n",
       "      <td>686.0</td>\n",
       "      <td>118.0</td>\n",
       "      <td>7 March 2012</td>\n",
       "      <td>2816.662</td>\n",
       "    </tr>\n",
       "    <tr>\n",
       "      <th>4</th>\n",
       "      <td>1</td>\n",
       "      <td>2014-05-28 19:53:57</td>\n",
       "      <td>3</td>\n",
       "      <td>-34.655560</td>\n",
       "      <td>19.374590</td>\n",
       "      <td>Oprah</td>\n",
       "      <td>Female</td>\n",
       "      <td>White Shark (Carcharodon carcharias)</td>\n",
       "      <td>686.0</td>\n",
       "      <td>118.0</td>\n",
       "      <td>7 March 2012</td>\n",
       "      <td>2816.662</td>\n",
       "    </tr>\n",
       "  </tbody>\n",
       "</table>\n",
       "</div>"
      ],
      "text/plain": [
       "   active            datetime  id   latitude  longitude   name  gender  \\\n",
       "0       1 2014-07-06 04:57:28   3 -34.606610  21.152440  Oprah  Female   \n",
       "1       1 2014-06-23 02:40:09   3 -34.787520  19.424790  Oprah  Female   \n",
       "2       1 2014-06-15 13:15:44   3 -34.424870  21.097540  Oprah  Female   \n",
       "3       1 2014-06-03 02:23:57   3 -34.704323  20.210134  Oprah  Female   \n",
       "4       1 2014-05-28 19:53:57   3 -34.655560  19.374590  Oprah  Female   \n",
       "\n",
       "                                species  weight  length       tagDate  \\\n",
       "0  White Shark (Carcharodon carcharias)   686.0   118.0  7 March 2012   \n",
       "1  White Shark (Carcharodon carcharias)   686.0   118.0  7 March 2012   \n",
       "2  White Shark (Carcharodon carcharias)   686.0   118.0  7 March 2012   \n",
       "3  White Shark (Carcharodon carcharias)   686.0   118.0  7 March 2012   \n",
       "4  White Shark (Carcharodon carcharias)   686.0   118.0  7 March 2012   \n",
       "\n",
       "   dist_total  \n",
       "0    2816.662  \n",
       "1    2816.662  \n",
       "2    2816.662  \n",
       "3    2816.662  \n",
       "4    2816.662  "
      ]
     },
     "execution_count": 6,
     "metadata": {},
     "output_type": "execute_result"
    }
   ],
   "source": [
    "#cleans datetime\n",
    "\n",
    "df['datetime'] = pd.to_datetime(df['datetime'])\n",
    "df.datetime[0]\n",
    "\n",
    "#cleans weight\n",
    "\n",
    "def clean_weight(value):\n",
    "    if not value:\n",
    "        return value\n",
    "    # most values are like \"123 lb\"\n",
    "    value = str(value)\n",
    "    for character in 'lbs,+':\n",
    "        value = value.replace(character, '')\n",
    "    return float(value)\n",
    "\n",
    "#cleans length\n",
    "\n",
    "def clean_length(value):\n",
    "    if not value:\n",
    "        return value\n",
    "    # most length values are like '3 ft 4 in.'\n",
    "    value = str(value)\n",
    "    total = 0\n",
    "    if 'ft' in value:\n",
    "        ft, inches = value.split('ft')\n",
    "        total += int(ft.strip()) * 12\n",
    "    else:\n",
    "        inches = value\n",
    "    if inches.strip():\n",
    "        total += float(inches.strip().split()[0])\n",
    "    return total\n",
    "\n",
    "df['weight'] = df.weight.apply(clean_weight)\n",
    "df['length'] = df.length.apply(clean_length)\n",
    "\n",
    "numeric_cols = ['latitude', 'longitude', 'dist_total', 'weight', 'length']\n",
    "df[numeric_cols] = df[numeric_cols].apply(pd.to_numeric, axis=1)\n",
    "df.head()"
   ]
  },
  {
   "cell_type": "markdown",
   "metadata": {},
   "source": [
    "#### Query Ocearch API"
   ]
  },
  {
   "cell_type": "code",
   "execution_count": 7,
   "metadata": {
    "ExecuteTime": {
     "end_time": "2019-02-23T02:33:00.784133Z",
     "start_time": "2019-02-23T02:32:56.020412Z"
    }
   },
   "outputs": [
    {
     "data": {
      "text/plain": [
       "<Response [200]>"
      ]
     },
     "execution_count": 7,
     "metadata": {},
     "output_type": "execute_result"
    }
   ],
   "source": [
    "import requests\n",
    "url = 'http://www.ocearch.org/tracker/ajax/filter-sharks'\n",
    "\n",
    "resp = requests.get(url)\n",
    "resp"
   ]
  },
  {
   "cell_type": "markdown",
   "metadata": {},
   "source": [
    "#### Transform data"
   ]
  },
  {
   "cell_type": "code",
   "execution_count": null,
   "metadata": {},
   "outputs": [],
   "source": []
  },
  {
   "cell_type": "markdown",
   "metadata": {},
   "source": [
    "### Explore data"
   ]
  },
  {
   "cell_type": "code",
   "execution_count": null,
   "metadata": {},
   "outputs": [],
   "source": []
  },
  {
   "cell_type": "markdown",
   "metadata": {},
   "source": [
    "### Challenge Questions"
   ]
  },
  {
   "cell_type": "markdown",
   "metadata": {},
   "source": [
    "#### Hard questions\n",
    "\n",
    " 1. Use folium to plot the first ping, last ping, and a line connecting each ping for the Tiger shark Emma.  Make the first ping marker a 'play' icon, and last ping icon a 'stop' icon.\n",
    " 2. Resample Emma data to have a daily lat/lon average, and interpolate missing results.  Plot a marker for each day, and color them blue for hard data, green for interpolated lat/lons\n",
    " 3. Resample all shark data for daily lat/lon averages, and interpolate missing results\n",
    " 4. Calculate distance between Emma and other sharks on a daily basis\n",
    " 5. Identify the shark that has the shortest average distance to Emma per day (minimum 50 days of pings with Emma)\n",
    " 6. Plot Emma and her closest buddy: interpolated results for each in green, Emma as circle icons and her buddy as square icons"
   ]
  },
  {
   "cell_type": "markdown",
   "metadata": {},
   "source": [
    "##### Plot Emma locations\n",
    "Plot the ping locations for the shark named Emma as a `PolyLine` in folium.  Include the first and last ping location as markers."
   ]
  },
  {
   "cell_type": "code",
   "execution_count": 8,
   "metadata": {},
   "outputs": [],
   "source": [
    "import folium as fm"
   ]
  },
  {
   "cell_type": "code",
   "execution_count": 9,
   "metadata": {},
   "outputs": [
    {
     "data": {
      "text/html": [
       "<div>\n",
       "<style scoped>\n",
       "    .dataframe tbody tr th:only-of-type {\n",
       "        vertical-align: middle;\n",
       "    }\n",
       "\n",
       "    .dataframe tbody tr th {\n",
       "        vertical-align: top;\n",
       "    }\n",
       "\n",
       "    .dataframe thead th {\n",
       "        text-align: right;\n",
       "    }\n",
       "</style>\n",
       "<table border=\"1\" class=\"dataframe\">\n",
       "  <thead>\n",
       "    <tr style=\"text-align: right;\">\n",
       "      <th></th>\n",
       "      <th>active</th>\n",
       "      <th>datetime</th>\n",
       "      <th>id</th>\n",
       "      <th>latitude</th>\n",
       "      <th>longitude</th>\n",
       "      <th>name</th>\n",
       "      <th>gender</th>\n",
       "      <th>species</th>\n",
       "      <th>weight</th>\n",
       "      <th>length</th>\n",
       "      <th>tagDate</th>\n",
       "      <th>dist_total</th>\n",
       "    </tr>\n",
       "  </thead>\n",
       "  <tbody>\n",
       "    <tr>\n",
       "      <th>34075</th>\n",
       "      <td>1</td>\n",
       "      <td>2014-01-31 22:10:18</td>\n",
       "      <td>102</td>\n",
       "      <td>-0.466747</td>\n",
       "      <td>-90.300050</td>\n",
       "      <td>Emma</td>\n",
       "      <td>Female</td>\n",
       "      <td>Tiger Shark  (Galeocerdo cuvier)</td>\n",
       "      <td>NaN</td>\n",
       "      <td>99.0</td>\n",
       "      <td>20 January 2014</td>\n",
       "      <td>4368.906</td>\n",
       "    </tr>\n",
       "    <tr>\n",
       "      <th>34074</th>\n",
       "      <td>1</td>\n",
       "      <td>2014-01-31 22:51:31</td>\n",
       "      <td>102</td>\n",
       "      <td>-0.411010</td>\n",
       "      <td>-90.327830</td>\n",
       "      <td>Emma</td>\n",
       "      <td>Female</td>\n",
       "      <td>Tiger Shark  (Galeocerdo cuvier)</td>\n",
       "      <td>NaN</td>\n",
       "      <td>99.0</td>\n",
       "      <td>20 January 2014</td>\n",
       "      <td>4368.906</td>\n",
       "    </tr>\n",
       "    <tr>\n",
       "      <th>34073</th>\n",
       "      <td>1</td>\n",
       "      <td>2014-01-31 23:49:34</td>\n",
       "      <td>102</td>\n",
       "      <td>-0.478080</td>\n",
       "      <td>-90.368890</td>\n",
       "      <td>Emma</td>\n",
       "      <td>Female</td>\n",
       "      <td>Tiger Shark  (Galeocerdo cuvier)</td>\n",
       "      <td>NaN</td>\n",
       "      <td>99.0</td>\n",
       "      <td>20 January 2014</td>\n",
       "      <td>4368.906</td>\n",
       "    </tr>\n",
       "    <tr>\n",
       "      <th>34072</th>\n",
       "      <td>1</td>\n",
       "      <td>2014-02-01 00:25:07</td>\n",
       "      <td>102</td>\n",
       "      <td>-0.240960</td>\n",
       "      <td>-89.920682</td>\n",
       "      <td>Emma</td>\n",
       "      <td>Female</td>\n",
       "      <td>Tiger Shark  (Galeocerdo cuvier)</td>\n",
       "      <td>NaN</td>\n",
       "      <td>99.0</td>\n",
       "      <td>20 January 2014</td>\n",
       "      <td>4368.906</td>\n",
       "    </tr>\n",
       "    <tr>\n",
       "      <th>34071</th>\n",
       "      <td>1</td>\n",
       "      <td>2014-02-01 08:31:34</td>\n",
       "      <td>102</td>\n",
       "      <td>-0.429350</td>\n",
       "      <td>-89.649420</td>\n",
       "      <td>Emma</td>\n",
       "      <td>Female</td>\n",
       "      <td>Tiger Shark  (Galeocerdo cuvier)</td>\n",
       "      <td>NaN</td>\n",
       "      <td>99.0</td>\n",
       "      <td>20 January 2014</td>\n",
       "      <td>4368.906</td>\n",
       "    </tr>\n",
       "  </tbody>\n",
       "</table>\n",
       "</div>"
      ],
      "text/plain": [
       "       active            datetime   id  latitude  longitude  name  gender  \\\n",
       "34075       1 2014-01-31 22:10:18  102 -0.466747 -90.300050  Emma  Female   \n",
       "34074       1 2014-01-31 22:51:31  102 -0.411010 -90.327830  Emma  Female   \n",
       "34073       1 2014-01-31 23:49:34  102 -0.478080 -90.368890  Emma  Female   \n",
       "34072       1 2014-02-01 00:25:07  102 -0.240960 -89.920682  Emma  Female   \n",
       "34071       1 2014-02-01 08:31:34  102 -0.429350 -89.649420  Emma  Female   \n",
       "\n",
       "                                species  weight  length          tagDate  \\\n",
       "34075  Tiger Shark  (Galeocerdo cuvier)     NaN    99.0  20 January 2014   \n",
       "34074  Tiger Shark  (Galeocerdo cuvier)     NaN    99.0  20 January 2014   \n",
       "34073  Tiger Shark  (Galeocerdo cuvier)     NaN    99.0  20 January 2014   \n",
       "34072  Tiger Shark  (Galeocerdo cuvier)     NaN    99.0  20 January 2014   \n",
       "34071  Tiger Shark  (Galeocerdo cuvier)     NaN    99.0  20 January 2014   \n",
       "\n",
       "       dist_total  \n",
       "34075    4368.906  \n",
       "34074    4368.906  \n",
       "34073    4368.906  \n",
       "34072    4368.906  \n",
       "34071    4368.906  "
      ]
     },
     "execution_count": 9,
     "metadata": {},
     "output_type": "execute_result"
    }
   ],
   "source": [
    "emma = df[df.name == 'Emma'].copy().sort_values(by='datetime')\n",
    "emma.head()"
   ]
  },
  {
   "cell_type": "code",
   "execution_count": 10,
   "metadata": {},
   "outputs": [
    {
     "data": {
      "text/html": [
       "<div style=\"width:100%;\"><div style=\"position:relative;width:100%;height:0;padding-bottom:60%;\"><iframe src=\"data:text/html;charset=utf-8;base64,PCFET0NUWVBFIGh0bWw+CjxoZWFkPiAgICAKICAgIDxtZXRhIGh0dHAtZXF1aXY9ImNvbnRlbnQtdHlwZSIgY29udGVudD0idGV4dC9odG1sOyBjaGFyc2V0PVVURi04IiAvPgogICAgCiAgICAgICAgPHNjcmlwdD4KICAgICAgICAgICAgTF9OT19UT1VDSCA9IGZhbHNlOwogICAgICAgICAgICBMX0RJU0FCTEVfM0QgPSBmYWxzZTsKICAgICAgICA8L3NjcmlwdD4KICAgIAogICAgPHNjcmlwdCBzcmM9Imh0dHBzOi8vY2RuLmpzZGVsaXZyLm5ldC9ucG0vbGVhZmxldEAxLjQuMC9kaXN0L2xlYWZsZXQuanMiPjwvc2NyaXB0PgogICAgPHNjcmlwdCBzcmM9Imh0dHBzOi8vY29kZS5qcXVlcnkuY29tL2pxdWVyeS0xLjEyLjQubWluLmpzIj48L3NjcmlwdD4KICAgIDxzY3JpcHQgc3JjPSJodHRwczovL21heGNkbi5ib290c3RyYXBjZG4uY29tL2Jvb3RzdHJhcC8zLjIuMC9qcy9ib290c3RyYXAubWluLmpzIj48L3NjcmlwdD4KICAgIDxzY3JpcHQgc3JjPSJodHRwczovL2NkbmpzLmNsb3VkZmxhcmUuY29tL2FqYXgvbGlicy9MZWFmbGV0LmF3ZXNvbWUtbWFya2Vycy8yLjAuMi9sZWFmbGV0LmF3ZXNvbWUtbWFya2Vycy5qcyI+PC9zY3JpcHQ+CiAgICA8bGluayByZWw9InN0eWxlc2hlZXQiIGhyZWY9Imh0dHBzOi8vY2RuLmpzZGVsaXZyLm5ldC9ucG0vbGVhZmxldEAxLjQuMC9kaXN0L2xlYWZsZXQuY3NzIi8+CiAgICA8bGluayByZWw9InN0eWxlc2hlZXQiIGhyZWY9Imh0dHBzOi8vbWF4Y2RuLmJvb3RzdHJhcGNkbi5jb20vYm9vdHN0cmFwLzMuMi4wL2Nzcy9ib290c3RyYXAubWluLmNzcyIvPgogICAgPGxpbmsgcmVsPSJzdHlsZXNoZWV0IiBocmVmPSJodHRwczovL21heGNkbi5ib290c3RyYXBjZG4uY29tL2Jvb3RzdHJhcC8zLjIuMC9jc3MvYm9vdHN0cmFwLXRoZW1lLm1pbi5jc3MiLz4KICAgIDxsaW5rIHJlbD0ic3R5bGVzaGVldCIgaHJlZj0iaHR0cHM6Ly9tYXhjZG4uYm9vdHN0cmFwY2RuLmNvbS9mb250LWF3ZXNvbWUvNC42LjMvY3NzL2ZvbnQtYXdlc29tZS5taW4uY3NzIi8+CiAgICA8bGluayByZWw9InN0eWxlc2hlZXQiIGhyZWY9Imh0dHBzOi8vY2RuanMuY2xvdWRmbGFyZS5jb20vYWpheC9saWJzL0xlYWZsZXQuYXdlc29tZS1tYXJrZXJzLzIuMC4yL2xlYWZsZXQuYXdlc29tZS1tYXJrZXJzLmNzcyIvPgogICAgPGxpbmsgcmVsPSJzdHlsZXNoZWV0IiBocmVmPSJodHRwczovL3Jhd2Nkbi5naXRoYWNrLmNvbS9weXRob24tdmlzdWFsaXphdGlvbi9mb2xpdW0vbWFzdGVyL2ZvbGl1bS90ZW1wbGF0ZXMvbGVhZmxldC5hd2Vzb21lLnJvdGF0ZS5jc3MiLz4KICAgIDxzdHlsZT5odG1sLCBib2R5IHt3aWR0aDogMTAwJTtoZWlnaHQ6IDEwMCU7bWFyZ2luOiAwO3BhZGRpbmc6IDA7fTwvc3R5bGU+CiAgICA8c3R5bGU+I21hcCB7cG9zaXRpb246YWJzb2x1dGU7dG9wOjA7Ym90dG9tOjA7cmlnaHQ6MDtsZWZ0OjA7fTwvc3R5bGU+CiAgICAKICAgICAgICAgICAgPG1ldGEgbmFtZT0idmlld3BvcnQiIGNvbnRlbnQ9IndpZHRoPWRldmljZS13aWR0aCwKICAgICAgICAgICAgICAgIGluaXRpYWwtc2NhbGU9MS4wLCBtYXhpbXVtLXNjYWxlPTEuMCwgdXNlci1zY2FsYWJsZT1ubyIgLz4KICAgICAgICAgICAgPHN0eWxlPgogICAgICAgICAgICAgICAgI21hcF85N2M0NDBhOWVlZTI0ODZmYjRjMjliNmZmZDQxOThkZCB7CiAgICAgICAgICAgICAgICAgICAgcG9zaXRpb246IHJlbGF0aXZlOwogICAgICAgICAgICAgICAgICAgIHdpZHRoOiAxMDAuMCU7CiAgICAgICAgICAgICAgICAgICAgaGVpZ2h0OiAxMDAuMCU7CiAgICAgICAgICAgICAgICAgICAgbGVmdDogMC4wJTsKICAgICAgICAgICAgICAgICAgICB0b3A6IDAuMCU7CiAgICAgICAgICAgICAgICB9CiAgICAgICAgICAgIDwvc3R5bGU+CiAgICAgICAgCjwvaGVhZD4KPGJvZHk+ICAgIAogICAgCiAgICAgICAgICAgIDxkaXYgY2xhc3M9ImZvbGl1bS1tYXAiIGlkPSJtYXBfOTdjNDQwYTllZWUyNDg2ZmI0YzI5YjZmZmQ0MTk4ZGQiID48L2Rpdj4KICAgICAgICAKPC9ib2R5Pgo8c2NyaXB0PiAgICAKICAgIAogICAgICAgICAgICB2YXIgbWFwXzk3YzQ0MGE5ZWVlMjQ4NmZiNGMyOWI2ZmZkNDE5OGRkID0gTC5tYXAoCiAgICAgICAgICAgICAgICAibWFwXzk3YzQ0MGE5ZWVlMjQ4NmZiNGMyOWI2ZmZkNDE5OGRkIiwKICAgICAgICAgICAgICAgIHsKICAgICAgICAgICAgICAgICAgICBjZW50ZXI6IFswLjMwMDU4MzIzOTI2MzE5MiwgLTg3LjYwNzM5NzExNDY3Mzg3XSwKICAgICAgICAgICAgICAgICAgICBjcnM6IEwuQ1JTLkVQU0czODU3LAogICAgICAgICAgICAgICAgICAgIHpvb206IDUsCiAgICAgICAgICAgICAgICAgICAgem9vbUNvbnRyb2w6IHRydWUsCiAgICAgICAgICAgICAgICAgICAgcHJlZmVyQ2FudmFzOiBmYWxzZSwKICAgICAgICAgICAgICAgIH0KICAgICAgICAgICAgKTsKCiAgICAgICAgICAgIAoKICAgICAgICAKICAgIAogICAgICAgICAgICB2YXIgdGlsZV9sYXllcl9mOTE0ZWEwZmE0OWU0OGU3YTQ5Nzc2M2I0NjkxMDMwZCA9IEwudGlsZUxheWVyKAogICAgICAgICAgICAgICAgImh0dHBzOi8vc3RhbWVuLXRpbGVzLXtzfS5hLnNzbC5mYXN0bHkubmV0L3dhdGVyY29sb3Ive3p9L3t4fS97eX0uanBnIiwKICAgICAgICAgICAgICAgIHsiYXR0cmlidXRpb24iOiAiTWFwIHRpbGVzIGJ5IFx1MDAzY2EgaHJlZj1cImh0dHA6Ly9zdGFtZW4uY29tXCJcdTAwM2VTdGFtZW4gRGVzaWduXHUwMDNjL2FcdTAwM2UsIHVuZGVyIFx1MDAzY2EgaHJlZj1cImh0dHA6Ly9jcmVhdGl2ZWNvbW1vbnMub3JnL2xpY2Vuc2VzL2J5LzMuMFwiXHUwMDNlQ0MgQlkgMy4wXHUwMDNjL2FcdTAwM2UuIERhdGEgYnkgXHUwMDI2Y29weTsgXHUwMDNjYSBocmVmPVwiaHR0cDovL29wZW5zdHJlZXRtYXAub3JnXCJcdTAwM2VPcGVuU3RyZWV0TWFwXHUwMDNjL2FcdTAwM2UsIHVuZGVyIFx1MDAzY2EgaHJlZj1cImh0dHA6Ly9jcmVhdGl2ZWNvbW1vbnMub3JnL2xpY2Vuc2VzL2J5LXNhLzMuMFwiXHUwMDNlQ0MgQlkgU0FcdTAwM2MvYVx1MDAzZS4iLCAiZGV0ZWN0UmV0aW5hIjogZmFsc2UsICJtYXhOYXRpdmVab29tIjogMTgsICJtYXhab29tIjogMTgsICJtaW5ab29tIjogMCwgIm5vV3JhcCI6IGZhbHNlLCAib3BhY2l0eSI6IDEsICJzdWJkb21haW5zIjogImFiYyIsICJ0bXMiOiBmYWxzZX0KICAgICAgICAgICAgKS5hZGRUbyhtYXBfOTdjNDQwYTllZWUyNDg2ZmI0YzI5YjZmZmQ0MTk4ZGQpOwogICAgICAgIAogICAgCiAgICAgICAgICAgIHZhciBwb2x5X2xpbmVfN2ZlOWExYzlmM2FmNDk1NWFiZmI4ZWM5ODIzYWFlZmEgPSBMLnBvbHlsaW5lKAogICAgICAgICAgICAgICAgW1stMC40NjY3NDY2MjI3NTc5NTQ3LCAtOTAuMzAwMDQ5Nzc3ODMxOTldLCBbLTAuNDExMDEwMDAwMDAwMDAwMDQsIC05MC4zMjc4M10sIFstMC40NzgwOCwgLTkwLjM2ODg5MDAwMDAwMDAxXSwgWy0wLjI0MDk1OTU3MTQzOTk0MDM1LCAtODkuOTIwNjgxNzk2ODc0OTldLCBbLTAuNDI5MzUsIC04OS42NDk0MTk5OTk5OTk5OV0sIFstMC40MDg1MiwgLTg5Ljc4MTIxOTk5OTk5OTk5XSwgWy0wLjQ2MzkzOTk5OTk5OTk5OTk2LCAtODkuOTYwNjddLCBbLTAuNDI0MTgsIC05MC40MDExNl0sIFstMC40NzY2NjAwMDAwMDAwMDAwMywgLTkwLjM4M10sIFstMC40ODk0MDU1MzQ4NjE5Njg3LCAtOTAuMjk5MDYzMDM3MTA5MzZdLCBbLTAuNDg1OTc3MzE1NTY3MzM2NCwgLTkwLjI4OTY5MzAwNTM3MTA4XSwgWy0wLjQ1MjY4LCAtOTAuMzI2MjMwMDAwMDAwMDFdLCBbLTAuNDQ5MTUsIC05MC4zMzI4M10sIFstMC40NDg2OCwgLTkwLjMyNzg2OTk5OTk5OTk5XSwgWy0wLjQ2MDc2MDAwMDAwMDAwMDA2LCAtOTAuMzMxMzFdLCBbLTAuNDY2ODMsIC05MC4zMzEwOV0sIFstMC40NTA3MTcwMDc5Nzk3MTQ1LCAtOTAuMjk2NDcyNTYxMDM1MTZdLCBbLTAuNDY5NCwgLTkwLjMxNDE2OTk5OTk5OTk5XSwgWy0wLjQ2ODUyLCAtOTAuMzEzNThdLCBbLTAuNDg0NTY5MTE1NTM4MDA4NCwgLTkwLjI5NzI1NjM5MTYwMTU1XSwgWy0wLjQ4NzU4NzUzMDE2NDcyMTcsIC05MC4yOTcyMTMwMzcxMDkzNl0sIFstMC4yODU1MDQxNTgxOTk3MTE2LCAtOTAuMjA5NjQyOTE5OTIxODZdLCBbLTAuNDQwMTYwMDAwMDAwMDAwMDUsIC05MC4zMzM0NF0sIFstMC40NjUwMiwgLTkwLjM0MDU1XSwgWy0wLjQ2NzczMDAwMDAwMDAwMDAzLCAtOTAuMzQwNjY5OTk5OTk5OTldLCBbLTAuNDc0NDMsIC05MC4zMTc3Ml0sIFstMC40NjMwMiwgLTkwLjM0NjA5XSwgWy0wLjQ1OTQsIC05MC4zNDA5OF0sIFstMC40NDc2ODg0NjIxNDgwMzI5LCAtOTAuMzk5MTEzMTc1NzgxNDFdLCBbLTAuNDc3MzEsIC05MC4zNTYzM10sIFstMC40NTc0NSwgLTkwLjM0Mjg5XSwgWy0wLjQ1NDQ3LCAtOTAuMzQxMDAwMDAwMDAwMDFdLCBbLTAuNDM3NzEwMDAwMDAwMDAwMDQsIC05MC4zNTU1M10sIFstMC40NTMzNywgLTkwLjM0MDE3XSwgWy0wLjQ2MDQ1LCAtOTAuMzM4MDFdLCBbLTAuNDc5NzcsIC05MC4zNjYwMTk5OTk5OTk5OV0sIFstMC40NjM5Mzk5OTk5OTk5OTk5NiwgLTkwLjMzMDU5XSwgWy0wLjQ2MTQzLCAtOTAuMzIzOTkwMDAwMDAwMDFdLCBbLTAuNDY3NjM5OTk5OTk5OTk5OTQsIC05MC4zMTgzN10sIFstMC40NzA4OSwgLTkwLjMxODA1XSwgWy0wLjQ2NTUyLCAtOTAuMTI4MzldLCBbLTAuNTA1NjI5MDcyMjUyNzUsIC05MC4zNjc0MDE1OTc5MDA0M10sIFstMC40NTI5NjAwMDAwMDAwMDAwMywgLTkwLjM1MjMxOTk5OTk5OTk5XSwgWy0wLjQ2MzY1LCAtOTAuMzM3MV0sIFstMC41MTQ2MiwgLTkwLjIxMzldLCBbLTAuNDY5MjMwMDAwMDAwMDAwMDQsIC05MC4zNDY4OF0sIFstMC40NjU4NCwgLTkwLjM0MjYzXSwgWy0wLjQ1OTEsIC05MC4zNDM0NF0sIFstMC40MTYzOSwgLTkwLjM1NTA0XSwgWy0wLjQ2MjIxOTk5OTk5OTk5OTk2LCAtOTAuMzY4MTFdLCBbLTAuNDkxNTE5OTk5OTk5OTk5OTYsIC05MC4zMzc3NV0sIFstMC40ODg2NywgLTkwLjMzMzE4XSwgWy0wLjUwODA3ODE2OTgyNTM3NTcsIC05MC4zODc3NjMzODYyMzA0NV0sIFstMC40ODEzNCwgLTkwLjM4NTQ0XSwgWy0wLjQ3MjM5LCAtOTAuMzg0ODFdLCBbLTAuNDY5ODUsIC05MC4zNTA2NF0sIFstMC40Mjg2MywgLTkwLjI3NzE2XSwgWy0wLjQ5MTg4NDE2NDAzMDY5NzUsIC05MC4yOTc2MDY4OTk0MTQwNl0sIFstMC40OTUxNzQxMDIyMzI3MDQ3LCAtOTAuMjk1MDQ4NTI5MDUyNzRdLCBbLTAuNTk3NTksIC04OS44MzY4MTk5OTk5OTk5OV0sIFstMC4zOTU3OTAwMDAwMDAwMDAwMywgLTkwLjM2MTk4XSwgWy0wLjQwMDYsIC05MC4yNzExMl0sIFstMC41MTI4ODc2NjM1NzQwMTc5LCAtOTAuMzYzOTY1NjkzMzU5MzhdLCBbLTAuNTExNzA3NjUyMzU0NjE0NywgLTkwLjM4ODg5Njc3MjQ2MDk1XSwgWy0wLjQ4ODAxMDAwMDAwMDAwMDA1LCAtOTAuMzgxNzZdLCBbLTAuNDgyMjcsIC05MC4zODk2MzAwMDAwMDAwMV0sIFstMC41MDE1MiwgLTkwLjQ5NDM1XSwgWy0wLjQ4NDczOTk5OTk5OTk5OTk1LCAtOTAuMzI3NjVdLCBbLTAuNDI3MTYzNDk0NzkyMDI0LCAtOTAuMjY2MDYwMjUzOTA2MTldLCBbLTAuNDIxMzk2ODY2MDc1MDYyNTUsIC05MC4yNjkzMzAwNjM0NzY1Nl0sIFstMC40NzY0MTk5OTk5OTk5OTk5NSwgLTkwLjM1ODMxOTk5OTk5OTk5XSwgWy0wLjQ3OTk1LCAtOTAuMzYxNTRdLCBbLTAuNDc3MjgwMDAwMDAwMDAwMDQsIC05MC4zNDg0ODAwMDAwMDAwMV0sIFstMC40Nzc5NjAwMDAwMDAwMDAwNSwgLTkwLjQxODQxXSwgWy0wLjQ3NjU1LCAtOTAuNDI0NjgwMDAwMDAwMDFdLCBbLTAuNTA4Njg3Mjc1MTYzOTYzNSwgLTkwLjQzOTAwMDEyNjk1MzA5XSwgWy0wLjQ3MjM4LCAtOTAuNDE0MzldLCBbLTAuNDY3OTUsIC05MC40MTk3N10sIFstMC40NDIxOCwgLTkwLjQxMTcxXSwgWy0wLjQ1NDI4LCAtOTAuNDU1NTldLCBbLTAuNTA5MTM5OTk5OTk5OTk5OSwgLTkwLjQ1MjM1XSwgWy0wLjQ4ODgsIC05MC41MDc5Nl0sIFstMC41MjQ2MSwgLTkwLjQ5MjIxXSwgWy0wLjUwMzY1LCAtOTAuNDQwODJdLCBbLTAuNDkzNiwgLTkwLjQ0MDQ2XSwgWy0wLjQ5MjgxLCAtOTAuNDEwMzZdLCBbLTAuNDk0NTMsIC05MC4zODI4NV0sIFstMC40OTQxMiwgLTkwLjM3OTldLCBbLTAuNDY5NjUsIC05MC40MDA2MV0sIFstMC40MDI1NywgLTg5Ljg2NjUwOTk5OTk5OTk5XSwgWy0wLjUzNjY0LCAtOTAuMzg3MTJdLCBbLTAuNTM2MTQsIC05MC4zODcxOV0sIFstMC41NDA5NSwgLTkwLjM5MV0sIFstMC40ODI2MiwgLTkwLjQyODQxXSwgWy0wLjUwODY5LCAtOTAuNDYxMjZdLCBbLTAuNTA5MywgLTkwLjQ2MTczXSwgWy0wLjU0NzgyLCAtOTAuMzMxNF0sIFstMC41MzA1OCwgLTkwLjU1NDgzMDAwMDAwMDAxXSwgWy0wLjU3NzgsIC05MC4zMjU2NV0sIFstMC41NzAyNSwgLTkwLjI4NjY1XSwgWy0wLjQ4ODU2MDAwMDAwMDAwMDA1LCAtOTAuMzEyNl0sIFstMC40ODg2OCwgLTkwLjMxMDI2XSwgWy0wLjUwOTQxLCAtOTAuNTMxOTkwMDAwMDAwMDFdLCBbLTAuNDg2NSwgLTkwLjUyMDc3XSwgWy0wLjQ3MDA4LCAtOTAuNDQ0NDMwMDAwMDAwMDFdLCBbLTAuNDc2MTcsIC05MC40NjI3MV0sIFstMC40ODQwNywgLTkwLjQwMDU5MDAwMDAwMDAxXSwgWy0wLjI2NzY2LCAtOTAuNjYwMzJdLCBbLTAuNDU1NTYsIC05MC40NzI0OF0sIFstMC40ODc3LCAtOTAuNTQ5MDldLCBbLTAuNTE5NTYsIC05MC40MTM4OTAwMDAwMDAwMV0sIFstMC41MDE2NSwgLTkwLjQ1NjgzMDAwMDAwMDAxXSwgWy0wLjQ4MjIyLCAtOTAuNDE4Ml0sIFstMC40ODIzMTk5OTk5OTk5OTk5NywgLTkwLjQwMzc5XSwgWy0wLjUyNzQ4MDAwMDAwMDAwMDEsIC05MC4xMjU0MzAwMDAwMDAwMV0sIFstMC41NTg5MSwgLTkwLjU0MTY3XSwgWy0wLjU0MzExLCAtOTAuNTY1NTU5OTk5OTk5OTldLCBbLTAuNTM5MDQsIC05MC41ODA0Njk5OTk5OTk5OV0sIFstMC40NjkxNSwgLTkwLjQ1Njg0XSwgWy0wLjU3MTg5LCAtOTAuMzA4MDZdLCBbLTAuNTYwMzgsIC05MC4zMDc0NTk5OTk5OTk5OV0sIFstMC40NjYwNjAwMDAwMDAwMDAwMywgLTkwLjMxOTA4XSwgWy0wLjQ5OTE3LCAtOTAuMzE2NjhdLCBbLTAuNDg5NTMsIC05MC4zMTU1ODAwMDAwMDAwMV0sIFstMC40Nzk5LCAtOTAuNDkyMDZdLCBbLTAuNDc1MywgLTkwLjUzMzA1XSwgWy0wLjI5NDEsIC05MC40OTcxOV0sIFstMC40ODg1ODk5OTk5OTk5OTk5NywgLTkwLjUyMTI0XSwgWy0wLjc4MzU4LCAtOTAuNDkwNl0sIFstMC45Mzg2NiwgLTkwLjQ2MDc1XSwgWy0wLjc5MjQ4MDAwMDAwMDAwMDEsIC05MC40NDcwOV0sIFstMC41OTUzMiwgLTkwLjM0NTA0XSwgWy0wLjU2MjMxMDAwMDAwMDAwMDEsIC05MC4zOTE2XSwgWy0wLjQ1OTE2OTk5OTk5OTk5OTk3LCAtOTAuMzUzXSwgWy0wLjQ3Mzk3LCAtOTAuMzM4MDRdLCBbLTAuNTQ0Mjg5OTk5OTk5OTk5OSwgLTkwLjM4NDMyXSwgWy0wLjQ5NTE4LCAtOTAuMzczMV0sIFstMC40ODQ2MiwgLTkwLjM5Mjk2OTk5OTk5OTk5XSwgWy0wLjQ2NjMxMDAwMDAwMDAwMDA2LCAtOTAuMzU3MzkwMDAwMDAwMDFdLCBbLTAuNDQ2ODg5OTk5OTk5OTk5OTUsIC05MC4zNDg3NF0sIFstMC40ODM2NSwgLTkwLjM0NDk2OTk5OTk5OTk5XSwgWy0wLjQwNjMzLCAtOTAuMzExMzddLCBbLTAuMzY3NzQsIC05MC4yNzI1OTAwMDAwMDAwMV0sIFstMC40NzM0MTAwMDAwMDAwMDAwNSwgLTkwLjMwODIxXSwgWy0wLjQ0OTkzLCAtOTAuMzAzODQwMDAwMDAwMDFdLCBbLTAuNDQ2NDg5OTk5OTk5OTk5OTQsIC05MC4zNDY0N10sIFstMC40MzIxNywgLTkwLjMzNDcxOTk5OTk5OTk5XSwgWy0wLjQ1NiwgLTkwLjMzNTldLCBbLTAuNDU0NDEwMDAwMDAwMDAwMDQsIC05MC4zMzIyNTk5OTk5OTk5OV0sIFstMC40NTIzMzk5OTk5OTk5OTk5NiwgLTkwLjMxNTIzXSwgWy0wLjQzNzUsIC05MC4yNDM1OV0sIFstMC40NDgwMzAwMDAwMDAwMDAwNCwgLTkwLjI5NjYxXSwgWy0wLjQ2MDI0LCAtOTAuMjk0MTE5OTk5OTk5OTldLCBbLTAuNTA3NzYsIC05MC4zOTU2XSwgWy0wLjU3OTgyLCAtOTAuNjIwNDZdLCBbLTAuNTU0MDksIC05MC41NDc4Njk5OTk5OTk5OV0sIFstMC40NjM3NSwgLTkwLjMyNTMxXSwgWy0wLjQ4ODkzMDAwMDAwMDAwMDAzLCAtOTAuMzI3MTddLCBbLTAuNDYxODYwMDAwMDAwMDAwMDUsIC05MC4zMTc1XSwgWy0wLjQ3ODc4OTk5OTk5OTk5OTk0LCAtOTAuMjk4NzFdLCBbLTAuNDY5MTg5OTk5OTk5OTk5OTQsIC05MC4zMjU3OV0sIFstMC40NzA4NCwgLTkwLjMwNjg2XSwgWy0wLjQ3MjgxMDAwMDAwMDAwMDA2LCAtOTAuMzA5NDVdLCBbLTAuNDEzODMwMDAwMDAwMDAwMDMsIC05MC4zMjY2ODAwMDAwMDAwMV0sIFstMC40MDAyNjk5OTk5OTk5OTk5NiwgLTkwLjMzNzM2OTk5OTk5OTk5XSwgWy0wLjQyMDc4OTk5OTk5OTk5OTk0LCAtOTAuMzM3MTldLCBbLTAuMzc0MTUsIC05MC40MjYzOV0sIFstMC40NDUxNCwgLTkwLjMxMDk0XSwgWy0wLjQ0NTEzLCAtOTAuMzEwOTRdLCBbLTAuNDU2NTgwMDAwMDAwMDAwMDQsIC05MC4yODY0MzAwMDAwMDAwMV0sIFstMC40MTU4MTk5OTk5OTk5OTk5NywgLTkwLjIyNTI1XSwgWy0wLjQ1OTM4LCAtOTAuMzIyMjZdLCBbLTAuNDY2OTIsIC05MC4yODI0MV0sIFstMC40NDY2MTk5OTk5OTk5OTk5NiwgLTkwLjI5ODc1XSwgWy0wLjQ2OTY1LCAtOTAuNDk2NDFdLCBbLTAuNTQwNTMwMDAwMDAwMDAwMSwgLTkwLjUxODEzXSwgWy0wLjQ2NDk3LCAtOTAuMzIzOTNdLCBbLTAuMzQyMDksIC04OS40ODAwM10sIFstMC4wODA4NzAwMDAwMDAwMDAwMSwgLTg5LjU2OTI5MDAwMDAwMDAxXSwgWy0wLjMwMDY2LCAtOTAuMzg3OF0sIFswLjAxNTE4LCAtODkuNjEwMDddLCBbLTAuNDU5OTg5OTk5OTk5OTk5OTUsIC05MC4zNDAxM10sIFstMC40NDg2OSwgLTkwLjM0MDYyXSwgWy0wLjQ1MjgyLCAtOTAuMzIwMzhdLCBbLTAuNDUxMDksIC05MC4zMTg1ODAwMDAwMDAwMV0sIFstMC40NjQzNSwgLTkwLjMxMjU3XSwgWy0wLjQ1MzU1LCAtOTAuMzA1ODRdLCBbLTAuNDYwNzgsIC05MC4zMDkyOF0sIFstMC40Njg4OCwgLTkwLjMxMDZdLCBbLTAuNDY3NTM5OTk5OTk5OTk5OTYsIC05MC4zMTc0NF0sIFstMC40ODMzMSwgLTkwLjMzMDMyXSwgWy0wLjQ0NjE5LCAtOTAuMzExMzddLCBbLTAuNDY3OTg5OTk5OTk5OTk5OTYsIC05MC4zNDEzN10sIFstMC40ODA5OSwgLTkwLjMzNTkxXSwgWy0wLjQ3OTg4MDAwMDAwMDAwMDAzLCAtOTAuMzQ0NjVdLCBbLTAuNTEzOTYwMDAwMDAwMDAwMSwgLTkwLjM2MDFdLCBbLTAuNDIzMTg5OTk5OTk5OTk5OTYsIC05MC4xMjQ0N10sIFstMC40Mjc5NCwgLTkwLjEzMjIzXSwgWy0wLjQ2ODkzOTk5OTk5OTk5OTk3LCAtOTAuMzE4NzFdLCBbLTAuNDczOTQsIC05MC4zMjQ4MTk5OTk5OTk5OV0sIFstMC40NjQzMTAwMDAwMDAwMDAwNiwgLTkwLjMxNjI0MDAwMDAwMDAxXSwgWy0wLjQ1MzMxMDAwMDAwMDAwMDA1LCAtOTAuMzM2MDZdLCBbLTAuNDcyMTM5OTk5OTk5OTk5OTUsIC05MC4zMzgwN10sIFstMC40NjM4NywgLTkwLjMzMTVdLCBbLTAuNDYzNiwgLTkwLjMyNTY5MDAwMDAwMDAxXSwgWy0wLjQ0MzI3LCAtOTAuMzQ5MDZdLCBbLTAuNDY0MjksIC05MC40MTU4Nl0sIFstMC40NjMxMzk5OTk5OTk5OTk5NCwgLTkwLjMwOTU0XSwgWy0wLjM3MDkzMDAwMDAwMDAwMDA0LCAtOTAuMjk4NTldLCBbLTAuNDIyNDksIC05MC42MjUwNV0sIFstMC40NTg3OSwgLTkwLjMxNjcxOTk5OTk5OTk5XSwgWy0wLjQ2MDY5LCAtOTAuMzA2MTMwMDAwMDAwMDFdLCBbLTAuNDY4NjMsIC05MC4yNzMxN10sIFstMC40NjExLCAtOTAuMzE2NTNdLCBbLTAuNDYwOTEwMDAwMDAwMDAwMDQsIC05MC4zMDE3XSwgWy0wLjQ3MzYxMDAwMDAwMDAwMDAzLCAtOTAuMzE2MDVdLCBbLTAuNDExOCwgLTkwLjMwMThdLCBbLTAuMzcyMzcsIC05MC4yNDgyXSwgWy0wLjQ1NzA4MDAwMDAwMDAwMDA0LCAtOTAuMjMwNzRdLCBbLTAuNDU2NiwgLTkwLjI0MjE0XSwgWy0wLjQ1NTQyLCAtOTAuMzA4Ml0sIFstMC40NjY4NSwgLTkwLjI5MDddLCBbLTAuNDg2MzY5OTk5OTk5OTk5OTcsIC05MC4yODM4MzAwMDAwMDAwMV0sIFstMC41MTY2NywgLTkwLjI2NjE4XSwgWy0wLjUwODc1LCAtOTAuMjgyNV0sIFstMC40OTg0MzAwMDAwMDAwMDAwNCwgLTkwLjM4MjAyXSwgWy0wLjQ0MzIsIC05MC40MTUwNV0sIFstMC41MjUyMzk5OTk5OTk5OTk5LCAtOTAuMjI0Ml0sIFstMC40OTE0MzAwMDAwMDAwMDAwMywgLTkwLjE5MjM1XSwgWy0wLjQ2OTYyLCAtOTAuMzA2MzVdLCBbLTAuNDY2MSwgLTkwLjMwODk2XSwgWy0wLjQ2MzI2MDAwMDAwMDAwMDA2LCAtOTAuMjg4NzRdLCBbLTAuNDcyNDMsIC05MC4zNTUyM10sIFstMC40MjU2MywgLTkwLjMxNTE3XSwgWy0wLjQyNjk0LCAtOTAuMzA1OTZdLCBbLTAuMzc0NjUsIC05MC4zNDg4NF0sIFstMC4zODg0MiwgLTkwLjMyNjM4XSwgWy0wLjQ1MDUyLCAtOTAuMjUxNDddLCBbLTAuNDcwMDMsIC05MC4yMzg2MV0sIFstMC40NTIzMiwgLTkwLjIzMDQzXSwgWy0wLjQyNjA4LCAtOTAuMjU0MjE5OTk5OTk5OTldLCBbLTAuNDcwNCwgLTkwLjI3MjAyXSwgWy0wLjQ1NjA4OTk5OTk5OTk5OTk0LCAtOTAuMzAzOTE5OTk5OTk5OTldLCBbLTAuNDE4MjEsIC05MC4zMjc1MzAwMDAwMDAwMV0sIFstMC40NDIxMywgLTkwLjMwOTk2OTk5OTk5OTk5XSwgWy0wLjQ3NTczMDAwMDAwMDAwMDA0LCAtOTAuMzE0NF0sIFstMC40ODE2NywgLTkwLjMzMDM3XSwgWy0wLjQ2NjkzOTk5OTk5OTk5OTk3LCAtOTAuMzA0NDMwMDAwMDAwMDFdLCBbLTAuNDU4OTgsIC05MC4zMDE5Ml0sIFstMC40NTg5NywgLTkwLjMwMTkzXSwgWy0wLjI5MTM5LCAtOTAuMzcyNzFdLCBbLTAuNDU2NjYsIC05MC4zMzYwNV0sIFstMC40NjU4MTk5OTk5OTk5OTk5NiwgLTkwLjM0NTU0XSwgWy0wLjQ2MTQ2MDAwMDAwMDAwMDA0LCAtOTAuNDU0MjMwMDAwMDAwMDFdLCBbLTAuNDY1NzksIC05MC40NzY2Ml0sIFstMC40MTcxMTAwMDAwMDAwMDAwNCwgLTkwLjQxODYzMDAwMDAwMDAxXSwgWy0wLjUzNDQzOTk5OTk5OTk5OTksIC05MC4zMzM1OV0sIFstMC44MzM5MywgLTkwLjUzNDQ5XSwgWy0wLjkxMjA0OTc3MzAzNzY2MiwgLTkwLjUwODczMTY2MDE1NjI5XSwgWzAuNzE4ODEwMDAwMDAwMDAwMSwgLTgzLjE2MzZdLCBbMC43MzUwMSwgLTgzLjE1MjA4XSwgWzAuNzcyMDEwMDAwMDAwMDAwMSwgLTgzLjA4OTU4XSwgWzAuODA1MjQsIC04My4wNTQzXSwgWzAuODI2MzYsIC04My4wMzQwOV0sIFswLjYxMjczLCAtODIuNzgyMl0sIFswLjk5NDU3OTk5OTk5OTk5OTksIC04Mi4yODMxOF0sIFsxLjA2MTMyOTk5OTk5OTk5OTksIC04Mi4yMDE2MzAwMDAwMDAwMV0sIFsxLjA1OTUsIC04Mi4yMTczNDAwMDAwMDAwMV0sIFsxLjA1MzcyLCAtODIuMTM1MzddLCBbMS4zOTU2MywgLTgxLjU5NTI0XSwgWzEuMzI1MDYwMDAwMDAwMDAwMSwgLTgxLjU5NzA2XSwgWzEuMzQzMDYwMDAwMDAwMDAwMSwgLTgxLjc2ODU4XSwgWzEuMjIxMTIsIC04MS43NjY4Ml0sIFsxLjIyMzk1LCAtODEuNjY4NDNdLCBbMS4yNjMxMjk5OTk5OTk5OTk5LCAtODEuNjQyNl0sIFsxLjMxNDg3OTk5OTk5OTk5OTgsIC04MC45MDQwOV0sIFsxLjI3MjY0LCAtODAuNzk1MzVdLCBbMS4xNjU1MjAwMDAwMDAwMDAxLCAtODAuODc1NjFdLCBbMS4wMzM4LCAtODAuODAyNTJdLCBbMC44Mjc4MywgLTgwLjQxMzc3XSwgWzAuOTE5OTYsIC04MC4zMDQ3NF0sIFsxLjg1MTQ5MjU4OTIyODYyNzEsIC03OC44Njk5NDc1ODc4OTA2NV0sIFsyLjUwNTI0LCAtNzkuMTYwOTFdLCBbMy44NDgxMTk5OTk5OTk5OTk4LCAtNzcuNDIyMjhdLCBbNC40NzA2NCwgLTc3LjcyODJdLCBbNC40NzcyOSwgLTc3LjcyMDY1XSwgWzUuMjExNzQsIC03Ni45MTk2OV0sIFs1LjIxNzE3MDQzMDc4MTM3MzUsIC03Ny41NjIyNjAxOTUzMTI1NV0sIFs1LjMzNDQyOTM5NzYwMzU1LCAtNzcuNTAyNDU1MzkwNjI1MDJdLCBbNS4yNDM0OSwgLTc3LjA3MTM4XSwgWzcuMzQ0NjcsIC03Ny4xNzYzODAwMDAwMDAwMV0sIFs2LjQzNDc2OTk5OTk5OTk5OSwgLTc3LjUxNDk1XSwgWzYuNDE4NDYsIC03Ny41MjAxOV0sIFs2LjcyODIxOTk5OTk5OTk5OSwgLTc3LjgyNTg0XSwgWzMuNDI1MSwgLTc4LjI1OTNdLCBbMy4zODA2NywgLTc4LjE4NjA1XSwgWzMuMzY2NzgwMDAwMDAwMDAwMywgLTc4LjE3NTczXSwgWzMuMDgyMjksIC03OC44MjMwMDAwMDAwMDAwMV0sIFsyLjk0OTI1LCAtNzguODMxNjZdLCBbMi44NzQ5OCwgLTc4Ljc1ODY3XSwgWzIuODk5MzkwMDAwMDAwMDAwNCwgLTc4Ljc1MjI5XSwgWzMuMTU3MTIsIC03OC41MjI3NF0sIFszLjE1Njg3LCAtNzguNTIwMzRdLCBbMy4yMDUyMiwgLTc4LjQ3MTI4MDAwMDAwMDAxXSwgWzMuMjM1NjQsIC03OC40NTA4OF0sIFszLjIxNjI1OTk5OTk5OTk5OTcsIC03OC4zMjIwNl0sIFszLjE1NDc5LCAtNzguMTM5NTVdLCBbMy4xMzE5MiwgLTc4LjA1NDQyXSwgWzMuMTEwMDQsIC03Ny43MzcwNV0sIFsyLjk3Mjg3LCAtNzguNDk1NzldLCBbMi45NzUzLCAtNzguNTA0NTJdLCBbMi44NzA2MiwgLTc4LjMxM10sIFsyLjg3MDk4LCAtNzguMzQwNTddLCBbMi44Njg1NiwgLTc4LjM2MTA1XSwgWzIuODMxMjQsIC03OC4yNjIyM10sIFsyLjkyNTU5LCAtNzguMzYwMzJdLCBbMi45NzIwMSwgLTc4LjQwNzFdLCBbMi43ODIxNSwgLTc4LjY0NzQ0XSwgWzIuNzcwNTQsIC03OC43MDI0OV0sIFsyLjc5MjY1OTk5OTk5OTk5OTcsIC03OC42Nzc2OV0sIFsyLjc2MjE0LCAtNzguOTI0NTJdLCBbMi44NjYyNywgLTc4LjY0MzM2XSwgWzIuODgwMTcsIC03OC42NzQzM10sIFsyLjg5MTg2LCAtNzguNzA3OThdLCBbMi45MTY2OSwgLTc4Ljg0MjY3XSwgWzIuNzk5Nzc5OTk5OTk5OTk5NywgLTc4LjU5ODI5XSwgWzIuODA5NjkwMDAwMDAwMDAwMiwgLTc4LjU1NzkwOTk5OTk5OTk5XSwgWzIuOTA0NjMsIC03OC4zNTg1N10sIFsyLjk1OTcxLCAtNzguMzE3ODZdLCBbMi45NTAyNSwgLTc4LjI4Njg3XSwgWzMuMTIwMzgsIC03OC41NzA5M10sIFszLjE0MTYzLCAtNzguNTYwMzMwMDAwMDAwMDFdLCBbMy4wODE4LCAtNzguNTI4MzddLCBbMy4wODU5OTAwMDAwMDAwMDAyLCAtNzguNTI2MjddLCBbMy4wODUwMiwgLTc4LjQ5OTM4XSwgWzMuMTQ4MDU5OTk5OTk5OTk5NiwgLTc4LjM5MTUzXSwgWzMuMTQ1NjYsIC03OC4zOTU3XSwgWzMuMjI1MDUsIC03OC4zNzg3NV0sIFsxLjM1NTQ0LCAtNzkuMzc2MjVdLCBbLTAuMjAwNDQyODM0OTQ0NTg5NDUsIC04MC41MzcwNDIxODc0OTk5OF0sIFstMC4zMzE3Nzg0ODQ4NzE0MDA4LCAtODAuNTcxODg4NTE1NjI1XSwgWzAuMTgzODYsIC04MC40OTk2MzAwMDAwMDAwMV0sIFswLjI3MzMyLCAtODAuOTA2M10sIFsxLjM1ODg2LCAtODEuNTUzMTU5OTk5OTk5OTldLCBbMi4xMDUwMjk5OTk5OTk5OTk3LCAtODAuODEwODU5OTk5OTk5OTldXSwKICAgICAgICAgICAgICAgIHsiYnViYmxpbmdNb3VzZUV2ZW50cyI6IHRydWUsICJjb2xvciI6ICJibGFjayIsICJkYXNoQXJyYXkiOiBudWxsLCAiZGFzaE9mZnNldCI6IG51bGwsICJmaWxsIjogZmFsc2UsICJmaWxsQ29sb3IiOiAiYmxhY2siLCAiZmlsbE9wYWNpdHkiOiAwLjIsICJmaWxsUnVsZSI6ICJldmVub2RkIiwgImxpbmVDYXAiOiAicm91bmQiLCAibGluZUpvaW4iOiAicm91bmQiLCAibm9DbGlwIjogZmFsc2UsICJvcGFjaXR5IjogMS4wLCAic21vb3RoRmFjdG9yIjogMS4wLCAic3Ryb2tlIjogdHJ1ZSwgIndlaWdodCI6IDN9CiAgICAgICAgICAgICkuYWRkVG8obWFwXzk3YzQ0MGE5ZWVlMjQ4NmZiNGMyOWI2ZmZkNDE5OGRkKTsKICAgICAgICAKICAgIAogICAgICAgICAgICB2YXIgbWFya2VyX2VhODQ2MDRmNWVlNDQ3MWRhMjRiNTFmNzFkMzQzMTExID0gTC5tYXJrZXIoCiAgICAgICAgICAgICAgICBbLTAuNDY2NzQ2NjIyNzU3OTU0NywgLTkwLjMwMDA0OTc3NzgzMTk5XSwKICAgICAgICAgICAgICAgIHt9CiAgICAgICAgICAgICkuYWRkVG8obWFwXzk3YzQ0MGE5ZWVlMjQ4NmZiNGMyOWI2ZmZkNDE5OGRkKTsKICAgICAgICAKICAgIAogICAgICAgICAgICB2YXIgaWNvbl9lNDAzNGZhZWQ1MjI0NjA5ODRhMGUxZTFhYjUzNTQ4YiA9IEwuQXdlc29tZU1hcmtlcnMuaWNvbigKICAgICAgICAgICAgICAgIHsiZXh0cmFDbGFzc2VzIjogImZhLXJvdGF0ZS0wIiwgImljb24iOiAicGxheSIsICJpY29uQ29sb3IiOiAid2hpdGUiLCAibWFya2VyQ29sb3IiOiAiZGFya2dyZWVuIiwgInByZWZpeCI6ICJnbHlwaGljb24ifQogICAgICAgICAgICApOwogICAgICAgICAgICBtYXJrZXJfZWE4NDYwNGY1ZWU0NDcxZGEyNGI1MWY3MWQzNDMxMTEuc2V0SWNvbihpY29uX2U0MDM0ZmFlZDUyMjQ2MDk4NGEwZTFlMWFiNTM1NDhiKTsKICAgICAgICAKICAgIAogICAgICAgICAgICB2YXIgbWFya2VyX2YxZGU1MGJjYzdmNzRmNTk4NDJkMTE1ZDNmYzE5OWIzID0gTC5tYXJrZXIoCiAgICAgICAgICAgICAgICBbMi4xMDUwMjk5OTk5OTk5OTk3LCAtODAuODEwODU5OTk5OTk5OTldLAogICAgICAgICAgICAgICAge30KICAgICAgICAgICAgKS5hZGRUbyhtYXBfOTdjNDQwYTllZWUyNDg2ZmI0YzI5YjZmZmQ0MTk4ZGQpOwogICAgICAgIAogICAgCiAgICAgICAgICAgIHZhciBpY29uX2Y0ZjkzZjdiMTcyYTQxNTVhOTc1MGYwMzk2ZjJlOTc0ID0gTC5Bd2Vzb21lTWFya2Vycy5pY29uKAogICAgICAgICAgICAgICAgeyJleHRyYUNsYXNzZXMiOiAiZmEtcm90YXRlLTAiLCAiaWNvbiI6ICJzdG9wIiwgImljb25Db2xvciI6ICJ3aGl0ZSIsICJtYXJrZXJDb2xvciI6ICJkYXJrcmVkIiwgInByZWZpeCI6ICJnbHlwaGljb24ifQogICAgICAgICAgICApOwogICAgICAgICAgICBtYXJrZXJfZjFkZTUwYmNjN2Y3NGY1OTg0MmQxMTVkM2ZjMTk5YjMuc2V0SWNvbihpY29uX2Y0ZjkzZjdiMTcyYTQxNTVhOTc1MGYwMzk2ZjJlOTc0KTsKICAgICAgICAKPC9zY3JpcHQ+\" style=\"position:absolute;width:100%;height:100%;left:0;top:0;border:none !important;\" allowfullscreen webkitallowfullscreen mozallowfullscreen></iframe></div></div>"
      ],
      "text/plain": [
       "<folium.folium.Map at 0x26b652b0080>"
      ]
     },
     "execution_count": 10,
     "metadata": {},
     "output_type": "execute_result"
    }
   ],
   "source": [
    "avg_lat = emma.latitude.mean()\n",
    "avg_long = emma.longitude.mean()\n",
    "\n",
    "mymap = fm.Map(tiles='stamenwatercolor',\n",
    "              location=(avg_lat,avg_long),\n",
    "              zoom_start=5)\n",
    "\n",
    "latlong = list(zip(emma.latitude.values, emma.longitude.values))\n",
    "latlong[:5]\n",
    "\n",
    "fm.PolyLine(latlong,color='black').add_to(mymap)\n",
    "fm.Marker(latlong[0],\n",
    "          icon=fm.Icon(color='darkgreen',\n",
    "                      icon='play')).add_to(mymap)\n",
    "fm.Marker(latlong[-1],\n",
    "          icon=fm.Icon(color='darkred',\n",
    "                      icon='stop')).add_to(mymap)\n",
    "\n",
    "mymap"
   ]
  },
  {
   "cell_type": "markdown",
   "metadata": {},
   "source": [
    "##### Plot interpolated locs\n",
    "Resample the Emma locations on a per-day basis and interpolate missing locations.  Then, plot the daily markes in folium along with a `PolyLine`."
   ]
  },
  {
   "cell_type": "code",
   "execution_count": 11,
   "metadata": {},
   "outputs": [
    {
     "name": "stdout",
     "output_type": "stream",
     "text": [
      "skipping first line\n",
      "measured gap of 27 days between 2014-04-30 and 2014-04-03\n",
      "measured gap of 2 days between 2014-05-09 and 2014-05-07\n",
      "measured gap of 4 days between 2014-05-13 and 2014-05-09\n",
      "measured gap of 3 days between 2014-05-17 and 2014-05-14\n",
      "measured gap of 3 days between 2014-05-21 and 2014-05-18\n",
      "measured gap of 7 days between 2014-05-28 and 2014-05-21\n",
      "measured gap of 2 days between 2014-05-31 and 2014-05-29\n",
      "measured gap of 27 days between 2014-06-27 and 2014-05-31\n",
      "measured gap of 14 days between 2014-07-11 and 2014-06-27\n",
      "measured gap of 5 days between 2014-07-17 and 2014-07-12\n",
      "measured gap of 2 days between 2014-07-24 and 2014-07-22\n",
      "measured gap of 2 days between 2014-07-31 and 2014-07-29\n",
      "measured gap of 14 days between 2014-08-16 and 2014-08-02\n",
      "measured gap of 5 days between 2014-08-21 and 2014-08-16\n",
      "measured gap of 2 days between 2014-08-23 and 2014-08-21\n",
      "measured gap of 2 days between 2014-08-25 and 2014-08-23\n",
      "measured gap of 3 days between 2014-08-29 and 2014-08-26\n"
     ]
    }
   ],
   "source": [
    "emma['day'] = emma['datetime'].apply(lambda ts: ts.date())\n",
    "emma.head()\n",
    "avlang = emma.groupby('day').agg({'latitude':'mean','longitude':'mean'}).reset_index()\n",
    "\n",
    "def daygap(day1,day2):\n",
    "    return abs((day2 - day1).days)\n",
    "\n",
    "for ind, row in avlang.iterrows():\n",
    "    if ind<1:\n",
    "        print(\"skipping first line\")\n",
    "        pass\n",
    "    else:\n",
    "        day1 = row.day\n",
    "        last_row = avlang.iloc[ind-1]\n",
    "        day2 = last_row.day\n",
    "        gap = daygap(day1,day2)\n",
    "        if gap>1:\n",
    "            print(\"measured gap of {} days between {} and {}\".format(gap, day1, day2))"
   ]
  },
  {
   "cell_type": "code",
   "execution_count": 12,
   "metadata": {
    "ExecuteTime": {
     "end_time": "2019-02-23T02:33:23.286310Z",
     "start_time": "2019-02-23T02:33:23.277313Z"
    }
   },
   "outputs": [
    {
     "data": {
      "text/html": [
       "<div>\n",
       "<style scoped>\n",
       "    .dataframe tbody tr th:only-of-type {\n",
       "        vertical-align: middle;\n",
       "    }\n",
       "\n",
       "    .dataframe tbody tr th {\n",
       "        vertical-align: top;\n",
       "    }\n",
       "\n",
       "    .dataframe thead th {\n",
       "        text-align: right;\n",
       "    }\n",
       "</style>\n",
       "<table border=\"1\" class=\"dataframe\">\n",
       "  <thead>\n",
       "    <tr style=\"text-align: right;\">\n",
       "      <th></th>\n",
       "      <th>latitude</th>\n",
       "      <th>longitude</th>\n",
       "      <th>interpolated</th>\n",
       "    </tr>\n",
       "    <tr>\n",
       "      <th>datetime</th>\n",
       "      <th></th>\n",
       "      <th></th>\n",
       "      <th></th>\n",
       "    </tr>\n",
       "  </thead>\n",
       "  <tbody>\n",
       "    <tr>\n",
       "      <th>2014-08-25</th>\n",
       "      <td>0.183860</td>\n",
       "      <td>-80.499630</td>\n",
       "      <td>False</td>\n",
       "    </tr>\n",
       "    <tr>\n",
       "      <th>2014-08-26</th>\n",
       "      <td>0.816090</td>\n",
       "      <td>-81.229730</td>\n",
       "      <td>False</td>\n",
       "    </tr>\n",
       "    <tr>\n",
       "      <th>2014-08-27</th>\n",
       "      <td>1.245737</td>\n",
       "      <td>-81.090107</td>\n",
       "      <td>True</td>\n",
       "    </tr>\n",
       "    <tr>\n",
       "      <th>2014-08-28</th>\n",
       "      <td>1.675383</td>\n",
       "      <td>-80.950483</td>\n",
       "      <td>True</td>\n",
       "    </tr>\n",
       "    <tr>\n",
       "      <th>2014-08-29</th>\n",
       "      <td>2.105030</td>\n",
       "      <td>-80.810860</td>\n",
       "      <td>False</td>\n",
       "    </tr>\n",
       "  </tbody>\n",
       "</table>\n",
       "</div>"
      ],
      "text/plain": [
       "            latitude  longitude  interpolated\n",
       "datetime                                     \n",
       "2014-08-25  0.183860 -80.499630         False\n",
       "2014-08-26  0.816090 -81.229730         False\n",
       "2014-08-27  1.245737 -81.090107          True\n",
       "2014-08-28  1.675383 -80.950483          True\n",
       "2014-08-29  2.105030 -80.810860         False"
      ]
     },
     "execution_count": 12,
     "metadata": {},
     "output_type": "execute_result"
    }
   ],
   "source": [
    "interpolatedemma = emma.set_index('datetime').resample('1D')[['latitude','longitude']].mean()\n",
    "interpolatedemma['interpolated'] = interpolatedemma['latitude'].isnull()\n",
    "fullyinterpolatedemma = interpolatedemma.interpolate(method ='linear')\n",
    "fullyinterpolatedemma.tail()"
   ]
  },
  {
   "cell_type": "code",
   "execution_count": 13,
   "metadata": {},
   "outputs": [
    {
     "data": {
      "text/html": [
       "<div style=\"width:100%;\"><div style=\"position:relative;width:100%;height:0;padding-bottom:60%;\"><iframe src=\"data:text/html;charset=utf-8;base64,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\" style=\"position:absolute;width:100%;height:100%;left:0;top:0;border:none !important;\" allowfullscreen webkitallowfullscreen mozallowfullscreen></iframe></div></div>"
      ],
      "text/plain": [
       "<folium.folium.Map at 0x26b652dfa90>"
      ]
     },
     "execution_count": 13,
     "metadata": {},
     "output_type": "execute_result"
    }
   ],
   "source": [
    "emmainterpolatedmap = fm.Map(tiles='cartodbpositron')\n",
    "\n",
    "interpolatedvalues = list(zip(fullyinterpolatedemma.latitude.values,\n",
    "                   fullyinterpolatedemma.longitude.values))\n",
    "\n",
    "#interpolatedvalues[:5]\n",
    "\n",
    "fm.PolyLine(interpolatedvalues,color='black').add_to(emmainterpolatedmap)\n",
    "fm.Marker(interpolatedvalues[0],\n",
    "          icon=fm.Icon(color='lightred',\n",
    "                      icon='play')).add_to(emmainterpolatedmap)\n",
    "\n",
    "emmainterpolatedmap"
   ]
  },
  {
   "cell_type": "markdown",
   "metadata": {},
   "source": [
    "##### Resample all shark data\n",
    "Resample all shark data for daily lat/lon averages, and interpolate missing results"
   ]
  },
  {
   "cell_type": "code",
   "execution_count": 14,
   "metadata": {},
   "outputs": [],
   "source": [
    "#interpolatedsharks = df.set_index('datetime').resample('1D')[['latitude','longitude']].mean()\n",
    "#interpolatedsharks['interpolated'] = interpolatedsharks['latitude'].isnull()\n",
    "#fullyinterpolatedsharks = interpolatedsharks.interpolate(method ='linear')\n",
    "#fullyinterpolatedsharks.head()"
   ]
  },
  {
   "cell_type": "code",
   "execution_count": 15,
   "metadata": {},
   "outputs": [
    {
     "data": {
      "text/html": [
       "<div>\n",
       "<style scoped>\n",
       "    .dataframe tbody tr th:only-of-type {\n",
       "        vertical-align: middle;\n",
       "    }\n",
       "\n",
       "    .dataframe tbody tr th {\n",
       "        vertical-align: top;\n",
       "    }\n",
       "\n",
       "    .dataframe thead th {\n",
       "        text-align: right;\n",
       "    }\n",
       "</style>\n",
       "<table border=\"1\" class=\"dataframe\">\n",
       "  <thead>\n",
       "    <tr style=\"text-align: right;\">\n",
       "      <th></th>\n",
       "      <th></th>\n",
       "      <th>latitude</th>\n",
       "      <th>longitude</th>\n",
       "      <th>interpolated</th>\n",
       "    </tr>\n",
       "    <tr>\n",
       "      <th>name</th>\n",
       "      <th>datetime</th>\n",
       "      <th></th>\n",
       "      <th></th>\n",
       "      <th></th>\n",
       "    </tr>\n",
       "  </thead>\n",
       "  <tbody>\n",
       "    <tr>\n",
       "      <th rowspan=\"5\" valign=\"top\">iSimangaliso</th>\n",
       "      <th>2017-04-26</th>\n",
       "      <td>-27.071329</td>\n",
       "      <td>32.903404</td>\n",
       "      <td>True</td>\n",
       "    </tr>\n",
       "    <tr>\n",
       "      <th>2017-04-27</th>\n",
       "      <td>-27.069021</td>\n",
       "      <td>32.901411</td>\n",
       "      <td>True</td>\n",
       "    </tr>\n",
       "    <tr>\n",
       "      <th>2017-04-28</th>\n",
       "      <td>-27.066714</td>\n",
       "      <td>32.899417</td>\n",
       "      <td>True</td>\n",
       "    </tr>\n",
       "    <tr>\n",
       "      <th>2017-04-29</th>\n",
       "      <td>-27.064407</td>\n",
       "      <td>32.897424</td>\n",
       "      <td>True</td>\n",
       "    </tr>\n",
       "    <tr>\n",
       "      <th>2017-04-30</th>\n",
       "      <td>-27.062100</td>\n",
       "      <td>32.895430</td>\n",
       "      <td>False</td>\n",
       "    </tr>\n",
       "  </tbody>\n",
       "</table>\n",
       "</div>"
      ],
      "text/plain": [
       "                          latitude  longitude  interpolated\n",
       "name         datetime                                      \n",
       "iSimangaliso 2017-04-26 -27.071329  32.903404          True\n",
       "             2017-04-27 -27.069021  32.901411          True\n",
       "             2017-04-28 -27.066714  32.899417          True\n",
       "             2017-04-29 -27.064407  32.897424          True\n",
       "             2017-04-30 -27.062100  32.895430         False"
      ]
     },
     "execution_count": 15,
     "metadata": {},
     "output_type": "execute_result"
    }
   ],
   "source": [
    "dtgroup = df.set_index('datetime').groupby('name').resample('1D')[['latitude','longitude']].mean()\n",
    "dtgroup['interpolated'] = dtgroup['latitude'].isnull()\n",
    "interpolatedsharks = dtgroup.interpolate(method ='linear')\n",
    "\n",
    "\n",
    "#dtgroup = df.groupby('datetime').agg({'latitude':'mean','longitude':'mean'}).head()\n",
    "#dtgroup['name'] = df['name']\n",
    "\n",
    "interpolatedsharks.tail()"
   ]
  },
  {
   "cell_type": "code",
   "execution_count": null,
   "metadata": {
    "ExecuteTime": {
     "end_time": "2019-02-23T02:33:26.298171Z",
     "start_time": "2019-02-23T02:33:23.913944Z"
    }
   },
   "outputs": [],
   "source": []
  },
  {
   "cell_type": "markdown",
   "metadata": {},
   "source": [
    "##### Distance between Emma and other sharks"
   ]
  },
  {
   "cell_type": "code",
   "execution_count": 16,
   "metadata": {},
   "outputs": [],
   "source": [
    "#extract emma - interpolatedwithoutemma\n",
    "#seperate df for emma - emmainterpolated\n",
    "#join them\n",
    "\n",
    "emmainterpolated = interpolatedsharks.loc['Emma']\n",
    "interpolatedwithoutemma = interpolatedsharks.copy().drop(\"Emma\", axis=0)\n",
    "emmalocations = emmainterpolated.copy().drop(\"interpolated\",axis=1)\n",
    "sharklocations = interpolatedwithoutemma.copy().drop(\"interpolated\", axis=1).reset_index()\n",
    "\n",
    "mergedemmalocations = emmalocations.rename(columns={\"latitude\": \"emmalat\",\"longitude\": \"emmalon\"}).head()"
   ]
  },
  {
   "cell_type": "code",
   "execution_count": 17,
   "metadata": {},
   "outputs": [
    {
     "data": {
      "text/html": [
       "<div>\n",
       "<style scoped>\n",
       "    .dataframe tbody tr th:only-of-type {\n",
       "        vertical-align: middle;\n",
       "    }\n",
       "\n",
       "    .dataframe tbody tr th {\n",
       "        vertical-align: top;\n",
       "    }\n",
       "\n",
       "    .dataframe thead th {\n",
       "        text-align: right;\n",
       "    }\n",
       "</style>\n",
       "<table border=\"1\" class=\"dataframe\">\n",
       "  <thead>\n",
       "    <tr style=\"text-align: right;\">\n",
       "      <th></th>\n",
       "      <th>datetime</th>\n",
       "      <th>emmalat</th>\n",
       "      <th>emmalon</th>\n",
       "      <th>name</th>\n",
       "      <th>latitude</th>\n",
       "      <th>longitude</th>\n",
       "    </tr>\n",
       "  </thead>\n",
       "  <tbody>\n",
       "    <tr>\n",
       "      <th>0</th>\n",
       "      <td>2014-01-31</td>\n",
       "      <td>-0.451946</td>\n",
       "      <td>-90.332257</td>\n",
       "      <td>Albertina</td>\n",
       "      <td>-34.570036</td>\n",
       "      <td>21.851467</td>\n",
       "    </tr>\n",
       "    <tr>\n",
       "      <th>1</th>\n",
       "      <td>2014-01-31</td>\n",
       "      <td>-0.451946</td>\n",
       "      <td>-90.332257</td>\n",
       "      <td>Andre</td>\n",
       "      <td>-33.205522</td>\n",
       "      <td>24.464655</td>\n",
       "    </tr>\n",
       "    <tr>\n",
       "      <th>2</th>\n",
       "      <td>2014-01-31</td>\n",
       "      <td>-0.451946</td>\n",
       "      <td>-90.332257</td>\n",
       "      <td>April</td>\n",
       "      <td>37.623940</td>\n",
       "      <td>-68.063633</td>\n",
       "    </tr>\n",
       "    <tr>\n",
       "      <th>3</th>\n",
       "      <td>2014-01-31</td>\n",
       "      <td>-0.451946</td>\n",
       "      <td>-90.332257</td>\n",
       "      <td>Beamer</td>\n",
       "      <td>11.384565</td>\n",
       "      <td>-76.018893</td>\n",
       "    </tr>\n",
       "    <tr>\n",
       "      <th>4</th>\n",
       "      <td>2014-01-31</td>\n",
       "      <td>-0.451946</td>\n",
       "      <td>-90.332257</td>\n",
       "      <td>Beatriz</td>\n",
       "      <td>1.084768</td>\n",
       "      <td>-91.843975</td>\n",
       "    </tr>\n",
       "  </tbody>\n",
       "</table>\n",
       "</div>"
      ],
      "text/plain": [
       "    datetime   emmalat    emmalon        name   latitude  longitude\n",
       "0 2014-01-31 -0.451946 -90.332257  Albertina  -34.570036  21.851467\n",
       "1 2014-01-31 -0.451946 -90.332257       Andre -33.205522  24.464655\n",
       "2 2014-01-31 -0.451946 -90.332257       April  37.623940 -68.063633\n",
       "3 2014-01-31 -0.451946 -90.332257      Beamer  11.384565 -76.018893\n",
       "4 2014-01-31 -0.451946 -90.332257     Beatriz   1.084768 -91.843975"
      ]
     },
     "execution_count": 17,
     "metadata": {},
     "output_type": "execute_result"
    }
   ],
   "source": [
    "merged = mergedemmalocations.merge(sharklocations,on='datetime')\n",
    "merged.head()\n",
    "\n",
    "#emmalat = lat1, emmalong = lon1, latitude = lat2, longitude = lon2\n",
    "#run through 'metres_between_two_points'\n",
    "#save as new column"
   ]
  },
  {
   "cell_type": "code",
   "execution_count": 19,
   "metadata": {
    "ExecuteTime": {
     "end_time": "2019-02-23T02:33:26.495109Z",
     "start_time": "2019-02-23T02:33:26.476115Z"
    }
   },
   "outputs": [
    {
     "data": {
      "text/plain": [
       "<function __main__.kmetres_between_two_points(emmalat, emmalon, latitude, longitude)>"
      ]
     },
     "execution_count": 19,
     "metadata": {},
     "output_type": "execute_result"
    }
   ],
   "source": [
    "from haversine import haversine\n",
    "\n",
    "# (lat1, lon1) = point A - tuple is like a bracketed list\n",
    "# (lat2, lon2) = point B\n",
    "\n",
    "def kmetres_between_two_points(emmalat,emmalon,latitude,longitude):\n",
    "    km_distance = haversine((emmalat, emmalon), (latitude, longitude))\n",
    "    return km_distance\n",
    "\n",
    "kmetres_between_two_points"
   ]
  },
  {
   "cell_type": "code",
   "execution_count": 20,
   "metadata": {},
   "outputs": [],
   "source": [
    "merged['separation'] = merged.apply(lambda r: kmetres_between_two_points(r.emmalat, r.emmalon, r.latitude, r.longitude),axis=1)"
   ]
  },
  {
   "cell_type": "code",
   "execution_count": 21,
   "metadata": {},
   "outputs": [
    {
     "data": {
      "text/html": [
       "<div>\n",
       "<style scoped>\n",
       "    .dataframe tbody tr th:only-of-type {\n",
       "        vertical-align: middle;\n",
       "    }\n",
       "\n",
       "    .dataframe tbody tr th {\n",
       "        vertical-align: top;\n",
       "    }\n",
       "\n",
       "    .dataframe thead th {\n",
       "        text-align: right;\n",
       "    }\n",
       "</style>\n",
       "<table border=\"1\" class=\"dataframe\">\n",
       "  <thead>\n",
       "    <tr style=\"text-align: right;\">\n",
       "      <th></th>\n",
       "      <th>datetime</th>\n",
       "      <th>emmalat</th>\n",
       "      <th>emmalon</th>\n",
       "      <th>name</th>\n",
       "      <th>latitude</th>\n",
       "      <th>longitude</th>\n",
       "      <th>separation</th>\n",
       "    </tr>\n",
       "  </thead>\n",
       "  <tbody>\n",
       "    <tr>\n",
       "      <th>0</th>\n",
       "      <td>2014-01-31</td>\n",
       "      <td>-0.451946</td>\n",
       "      <td>-90.332257</td>\n",
       "      <td>Albertina</td>\n",
       "      <td>-34.570036</td>\n",
       "      <td>21.851467</td>\n",
       "      <td>11991.711003</td>\n",
       "    </tr>\n",
       "    <tr>\n",
       "      <th>1</th>\n",
       "      <td>2014-01-31</td>\n",
       "      <td>-0.451946</td>\n",
       "      <td>-90.332257</td>\n",
       "      <td>Andre</td>\n",
       "      <td>-33.205522</td>\n",
       "      <td>24.464655</td>\n",
       "      <td>12262.461390</td>\n",
       "    </tr>\n",
       "    <tr>\n",
       "      <th>2</th>\n",
       "      <td>2014-01-31</td>\n",
       "      <td>-0.451946</td>\n",
       "      <td>-90.332257</td>\n",
       "      <td>April</td>\n",
       "      <td>37.623940</td>\n",
       "      <td>-68.063633</td>\n",
       "      <td>4811.478862</td>\n",
       "    </tr>\n",
       "    <tr>\n",
       "      <th>3</th>\n",
       "      <td>2014-01-31</td>\n",
       "      <td>-0.451946</td>\n",
       "      <td>-90.332257</td>\n",
       "      <td>Beamer</td>\n",
       "      <td>11.384565</td>\n",
       "      <td>-76.018893</td>\n",
       "      <td>2057.449641</td>\n",
       "    </tr>\n",
       "    <tr>\n",
       "      <th>4</th>\n",
       "      <td>2014-01-31</td>\n",
       "      <td>-0.451946</td>\n",
       "      <td>-90.332257</td>\n",
       "      <td>Beatriz</td>\n",
       "      <td>1.084768</td>\n",
       "      <td>-91.843975</td>\n",
       "      <td>239.691121</td>\n",
       "    </tr>\n",
       "  </tbody>\n",
       "</table>\n",
       "</div>"
      ],
      "text/plain": [
       "    datetime   emmalat    emmalon        name   latitude  longitude  \\\n",
       "0 2014-01-31 -0.451946 -90.332257  Albertina  -34.570036  21.851467   \n",
       "1 2014-01-31 -0.451946 -90.332257       Andre -33.205522  24.464655   \n",
       "2 2014-01-31 -0.451946 -90.332257       April  37.623940 -68.063633   \n",
       "3 2014-01-31 -0.451946 -90.332257      Beamer  11.384565 -76.018893   \n",
       "4 2014-01-31 -0.451946 -90.332257     Beatriz   1.084768 -91.843975   \n",
       "\n",
       "     separation  \n",
       "0  11991.711003  \n",
       "1  12262.461390  \n",
       "2   4811.478862  \n",
       "3   2057.449641  \n",
       "4    239.691121  "
      ]
     },
     "execution_count": 21,
     "metadata": {},
     "output_type": "execute_result"
    }
   ],
   "source": [
    "merged.head()"
   ]
  },
  {
   "cell_type": "markdown",
   "metadata": {},
   "source": [
    "##### Emma's buddy\n",
    "Identify the shark that has the shortest average distance to Emma per day (minimum 50 days of pings with Emma)"
   ]
  },
  {
   "cell_type": "code",
   "execution_count": 22,
   "metadata": {
    "ExecuteTime": {
     "end_time": "2019-02-23T02:33:27.338157Z",
     "start_time": "2019-02-23T02:33:27.189078Z"
    }
   },
   "outputs": [],
   "source": [
    "#find sharks which have pinged on the same days as emma at least 50 times\n",
    "    #create a df which shows only the days on which emma has pinged\n",
    "    #interpolated must be 0\n",
    "    #'interpolatedsharks' \n",
    "    #use emma's days to filter interpolated sharks to show only those days"
   ]
  },
  {
   "cell_type": "code",
   "execution_count": 23,
   "metadata": {},
   "outputs": [
    {
     "data": {
      "text/html": [
       "<div>\n",
       "<style scoped>\n",
       "    .dataframe tbody tr th:only-of-type {\n",
       "        vertical-align: middle;\n",
       "    }\n",
       "\n",
       "    .dataframe tbody tr th {\n",
       "        vertical-align: top;\n",
       "    }\n",
       "\n",
       "    .dataframe thead th {\n",
       "        text-align: right;\n",
       "    }\n",
       "</style>\n",
       "<table border=\"1\" class=\"dataframe\">\n",
       "  <thead>\n",
       "    <tr style=\"text-align: right;\">\n",
       "      <th></th>\n",
       "      <th>name</th>\n",
       "      <th>datetime</th>\n",
       "      <th>latitude</th>\n",
       "      <th>longitude</th>\n",
       "      <th>interpolated</th>\n",
       "    </tr>\n",
       "  </thead>\n",
       "  <tbody>\n",
       "    <tr>\n",
       "      <th>0</th>\n",
       "      <td>AB</td>\n",
       "      <td>2016-03-30</td>\n",
       "      <td>30.493530</td>\n",
       "      <td>-80.375390</td>\n",
       "      <td>False</td>\n",
       "    </tr>\n",
       "    <tr>\n",
       "      <th>1</th>\n",
       "      <td>AB</td>\n",
       "      <td>2016-03-31</td>\n",
       "      <td>30.495155</td>\n",
       "      <td>-80.328785</td>\n",
       "      <td>False</td>\n",
       "    </tr>\n",
       "    <tr>\n",
       "      <th>2</th>\n",
       "      <td>AB</td>\n",
       "      <td>2016-04-01</td>\n",
       "      <td>30.466347</td>\n",
       "      <td>-80.129087</td>\n",
       "      <td>False</td>\n",
       "    </tr>\n",
       "    <tr>\n",
       "      <th>3</th>\n",
       "      <td>AB</td>\n",
       "      <td>2016-04-02</td>\n",
       "      <td>30.362820</td>\n",
       "      <td>-80.235310</td>\n",
       "      <td>False</td>\n",
       "    </tr>\n",
       "    <tr>\n",
       "      <th>4</th>\n",
       "      <td>AB</td>\n",
       "      <td>2016-04-03</td>\n",
       "      <td>30.313510</td>\n",
       "      <td>-80.223723</td>\n",
       "      <td>False</td>\n",
       "    </tr>\n",
       "  </tbody>\n",
       "</table>\n",
       "</div>"
      ],
      "text/plain": [
       "  name   datetime   latitude  longitude  interpolated\n",
       "0   AB 2016-03-30  30.493530 -80.375390         False\n",
       "1   AB 2016-03-31  30.495155 -80.328785         False\n",
       "2   AB 2016-04-01  30.466347 -80.129087         False\n",
       "3   AB 2016-04-02  30.362820 -80.235310         False\n",
       "4   AB 2016-04-03  30.313510 -80.223723         False"
      ]
     },
     "execution_count": 23,
     "metadata": {},
     "output_type": "execute_result"
    }
   ],
   "source": [
    "sharkbuddy = interpolatedsharks[interpolatedsharks.interpolated == 0].reset_index()\n",
    "sharkbuddy.head()"
   ]
  },
  {
   "cell_type": "code",
   "execution_count": 24,
   "metadata": {},
   "outputs": [
    {
     "data": {
      "text/html": [
       "<div>\n",
       "<style scoped>\n",
       "    .dataframe tbody tr th:only-of-type {\n",
       "        vertical-align: middle;\n",
       "    }\n",
       "\n",
       "    .dataframe tbody tr th {\n",
       "        vertical-align: top;\n",
       "    }\n",
       "\n",
       "    .dataframe thead th {\n",
       "        text-align: right;\n",
       "    }\n",
       "</style>\n",
       "<table border=\"1\" class=\"dataframe\">\n",
       "  <thead>\n",
       "    <tr style=\"text-align: right;\">\n",
       "      <th></th>\n",
       "      <th>datetime</th>\n",
       "      <th>emmalat</th>\n",
       "      <th>emmalon</th>\n",
       "      <th>interpolated</th>\n",
       "    </tr>\n",
       "  </thead>\n",
       "  <tbody>\n",
       "    <tr>\n",
       "      <th>0</th>\n",
       "      <td>2014-01-31</td>\n",
       "      <td>-0.451946</td>\n",
       "      <td>-90.332257</td>\n",
       "      <td>False</td>\n",
       "    </tr>\n",
       "    <tr>\n",
       "      <th>1</th>\n",
       "      <td>2014-02-01</td>\n",
       "      <td>-0.407268</td>\n",
       "      <td>-90.016025</td>\n",
       "      <td>False</td>\n",
       "    </tr>\n",
       "    <tr>\n",
       "      <th>2</th>\n",
       "      <td>2014-02-02</td>\n",
       "      <td>-0.487691</td>\n",
       "      <td>-90.294378</td>\n",
       "      <td>False</td>\n",
       "    </tr>\n",
       "    <tr>\n",
       "      <th>3</th>\n",
       "      <td>2014-02-03</td>\n",
       "      <td>-0.454803</td>\n",
       "      <td>-90.324300</td>\n",
       "      <td>False</td>\n",
       "    </tr>\n",
       "    <tr>\n",
       "      <th>4</th>\n",
       "      <td>2014-02-04</td>\n",
       "      <td>-0.439290</td>\n",
       "      <td>-90.294217</td>\n",
       "      <td>False</td>\n",
       "    </tr>\n",
       "  </tbody>\n",
       "</table>\n",
       "</div>"
      ],
      "text/plain": [
       "    datetime   emmalat    emmalon  interpolated\n",
       "0 2014-01-31 -0.451946 -90.332257         False\n",
       "1 2014-02-01 -0.407268 -90.016025         False\n",
       "2 2014-02-02 -0.487691 -90.294378         False\n",
       "3 2014-02-03 -0.454803 -90.324300         False\n",
       "4 2014-02-04 -0.439290 -90.294217         False"
      ]
     },
     "execution_count": 24,
     "metadata": {},
     "output_type": "execute_result"
    }
   ],
   "source": [
    "emmareadytobuddy = emmainterpolated.rename(columns={\"latitude\": \"emmalat\",\"longitude\": \"emmalon\"})\n",
    "emmabuddy = emmareadytobuddy[emmareadytobuddy.interpolated == 0].reset_index()\n",
    "emmabuddy.head()"
   ]
  },
  {
   "cell_type": "code",
   "execution_count": 25,
   "metadata": {},
   "outputs": [
    {
     "ename": "NameError",
     "evalue": "name 'closebuds' is not defined",
     "output_type": "error",
     "traceback": [
      "\u001b[1;31m---------------------------------------------------------------------------\u001b[0m",
      "\u001b[1;31mNameError\u001b[0m                                 Traceback (most recent call last)",
      "\u001b[1;32m<ipython-input-25-3f6882567acd>\u001b[0m in \u001b[0;36m<module>\u001b[1;34m\u001b[0m\n\u001b[0;32m      1\u001b[0m \u001b[0mbuddies\u001b[0m \u001b[1;33m=\u001b[0m \u001b[0memmabuddy\u001b[0m\u001b[1;33m.\u001b[0m\u001b[0mmerge\u001b[0m\u001b[1;33m(\u001b[0m\u001b[0msharkbuddy\u001b[0m\u001b[1;33m,\u001b[0m\u001b[0mon\u001b[0m\u001b[1;33m=\u001b[0m\u001b[1;34m'datetime'\u001b[0m\u001b[1;33m)\u001b[0m\u001b[1;33m\u001b[0m\u001b[1;33m\u001b[0m\u001b[0m\n\u001b[0;32m      2\u001b[0m \u001b[0mbuddies\u001b[0m\u001b[1;33m.\u001b[0m\u001b[0mhead\u001b[0m\u001b[1;33m(\u001b[0m\u001b[1;33m)\u001b[0m\u001b[1;33m\u001b[0m\u001b[1;33m\u001b[0m\u001b[0m\n\u001b[1;32m----> 3\u001b[1;33m \u001b[0mclosebuds\u001b[0m\u001b[1;33m\u001b[0m\u001b[1;33m\u001b[0m\u001b[0m\n\u001b[0m",
      "\u001b[1;31mNameError\u001b[0m: name 'closebuds' is not defined"
     ]
    }
   ],
   "source": [
    "buddies = emmabuddy.merge(sharkbuddy,on='datetime')\n",
    "buddies.head()\n",
    "closebuds"
   ]
  },
  {
   "cell_type": "code",
   "execution_count": 26,
   "metadata": {},
   "outputs": [
    {
     "data": {
      "text/html": [
       "<div>\n",
       "<style scoped>\n",
       "    .dataframe tbody tr th:only-of-type {\n",
       "        vertical-align: middle;\n",
       "    }\n",
       "\n",
       "    .dataframe tbody tr th {\n",
       "        vertical-align: top;\n",
       "    }\n",
       "\n",
       "    .dataframe thead th {\n",
       "        text-align: right;\n",
       "    }\n",
       "</style>\n",
       "<table border=\"1\" class=\"dataframe\">\n",
       "  <thead>\n",
       "    <tr style=\"text-align: right;\">\n",
       "      <th></th>\n",
       "      <th>separation</th>\n",
       "    </tr>\n",
       "    <tr>\n",
       "      <th>name</th>\n",
       "      <th></th>\n",
       "    </tr>\n",
       "  </thead>\n",
       "  <tbody>\n",
       "    <tr>\n",
       "      <th>Itabaca</th>\n",
       "      <td>10.213953</td>\n",
       "    </tr>\n",
       "    <tr>\n",
       "      <th>Guayasamin</th>\n",
       "      <td>10.316017</td>\n",
       "    </tr>\n",
       "    <tr>\n",
       "      <th>Floreana</th>\n",
       "      <td>12.373984</td>\n",
       "    </tr>\n",
       "    <tr>\n",
       "      <th>Esperanza</th>\n",
       "      <td>12.463062</td>\n",
       "    </tr>\n",
       "    <tr>\n",
       "      <th>Yolanda</th>\n",
       "      <td>13.316236</td>\n",
       "    </tr>\n",
       "    <tr>\n",
       "      <th>Lonesome Jorgita</th>\n",
       "      <td>14.070417</td>\n",
       "    </tr>\n",
       "    <tr>\n",
       "      <th>Beatriz</th>\n",
       "      <td>277.264441</td>\n",
       "    </tr>\n",
       "    <tr>\n",
       "      <th>April</th>\n",
       "      <td>4771.560983</td>\n",
       "    </tr>\n",
       "  </tbody>\n",
       "</table>\n",
       "</div>"
      ],
      "text/plain": [
       "                   separation\n",
       "name                         \n",
       "Itabaca             10.213953\n",
       "Guayasamin          10.316017\n",
       "Floreana            12.373984\n",
       "Esperanza           12.463062\n",
       "Yolanda             13.316236\n",
       "Lonesome Jorgita    14.070417\n",
       "Beatriz            277.264441\n",
       "April             4771.560983"
      ]
     },
     "execution_count": 26,
     "metadata": {},
     "output_type": "execute_result"
    }
   ],
   "source": [
    "sharedpings = buddies.groupby('name').size().reset_index()\n",
    "sharedpings.columns=['name','number_of_shared_pings']\n",
    "closebuds = sharedpings[sharedpings.number_of_shared_pings >= 50]\n",
    "\n",
    "buddyinfo = closebuds.merge(merged,on='name')\n",
    "buddyinfo\n",
    "#groupby name and find mean separation\n",
    "closestbud = buddyinfo.groupby('name').agg({'separation':'mean'}).sort_values(by='separation')\n",
    "closestbud"
   ]
  },
  {
   "cell_type": "markdown",
   "metadata": {},
   "source": [
    "##### Plot Emma and Buddy\n",
    "Plot Emma and her closest buddy on folium.  Emma should be blue/green (known/interpolated) and her buddy should be red/black (known/interpolated)."
   ]
  },
  {
   "cell_type": "code",
   "execution_count": 32,
   "metadata": {
    "ExecuteTime": {
     "end_time": "2019-02-23T02:33:27.685365Z",
     "start_time": "2019-02-23T02:33:27.558416Z"
    }
   },
   "outputs": [
    {
     "data": {
      "text/plain": [
       "<folium.vector_layers.PolyLine at 0x26b64a8e860>"
      ]
     },
     "execution_count": 32,
     "metadata": {},
     "output_type": "execute_result"
    }
   ],
   "source": [
    "buddies = fm.Map(tiles='stamenwatercolor',\n",
    "              location=(avg_lat,avg_long),\n",
    "              zoom_start=5)\n",
    "\n",
    "emmabudlatlng = list(zip(fullyinterpolatedemma.latitude.values,\n",
    "                   fullyinterpolatedemma.longitude.values))\n",
    "\n",
    "fm.PolyLine(emmabudlatlng,color='blue').add_to(buddies)\n",
    "#fm.Marker(latlong[0],\n",
    " #         icon=fm.Icon(color='darkgreen',\n",
    "  #                    icon='play')).add_to(buddies)\n",
    "#fm.Marker(latlong[-1],\n",
    " #         icon=fm.Icon(color='darkred',\n",
    "  #                    icon='stop')).add_to(buddies)"
   ]
  },
  {
   "cell_type": "code",
   "execution_count": 33,
   "metadata": {},
   "outputs": [
    {
     "data": {
      "text/html": [
       "<div>\n",
       "<style scoped>\n",
       "    .dataframe tbody tr th:only-of-type {\n",
       "        vertical-align: middle;\n",
       "    }\n",
       "\n",
       "    .dataframe tbody tr th {\n",
       "        vertical-align: top;\n",
       "    }\n",
       "\n",
       "    .dataframe thead th {\n",
       "        text-align: right;\n",
       "    }\n",
       "</style>\n",
       "<table border=\"1\" class=\"dataframe\">\n",
       "  <thead>\n",
       "    <tr style=\"text-align: right;\">\n",
       "      <th></th>\n",
       "      <th>latitude</th>\n",
       "      <th>longitude</th>\n",
       "      <th>interpolated</th>\n",
       "    </tr>\n",
       "    <tr>\n",
       "      <th>datetime</th>\n",
       "      <th></th>\n",
       "      <th></th>\n",
       "      <th></th>\n",
       "    </tr>\n",
       "  </thead>\n",
       "  <tbody>\n",
       "    <tr>\n",
       "      <th>2014-01-31</th>\n",
       "      <td>-0.473250</td>\n",
       "      <td>-90.254850</td>\n",
       "      <td>False</td>\n",
       "    </tr>\n",
       "    <tr>\n",
       "      <th>2014-02-01</th>\n",
       "      <td>-0.480699</td>\n",
       "      <td>-90.288665</td>\n",
       "      <td>False</td>\n",
       "    </tr>\n",
       "    <tr>\n",
       "      <th>2014-02-02</th>\n",
       "      <td>-0.478765</td>\n",
       "      <td>-90.309573</td>\n",
       "      <td>False</td>\n",
       "    </tr>\n",
       "    <tr>\n",
       "      <th>2014-02-03</th>\n",
       "      <td>-0.484776</td>\n",
       "      <td>-90.300258</td>\n",
       "      <td>False</td>\n",
       "    </tr>\n",
       "    <tr>\n",
       "      <th>2014-02-04</th>\n",
       "      <td>-0.460771</td>\n",
       "      <td>-90.328676</td>\n",
       "      <td>False</td>\n",
       "    </tr>\n",
       "  </tbody>\n",
       "</table>\n",
       "</div>"
      ],
      "text/plain": [
       "            latitude  longitude  interpolated\n",
       "datetime                                     \n",
       "2014-01-31 -0.473250 -90.254850         False\n",
       "2014-02-01 -0.480699 -90.288665         False\n",
       "2014-02-02 -0.478765 -90.309573         False\n",
       "2014-02-03 -0.484776 -90.300258         False\n",
       "2014-02-04 -0.460771 -90.328676         False"
      ]
     },
     "execution_count": 33,
     "metadata": {},
     "output_type": "execute_result"
    }
   ],
   "source": [
    "itabaca = interpolatedsharks.loc['Itabaca'].sort_values(by='datetime')\n",
    "itabaca.head()"
   ]
  },
  {
   "cell_type": "code",
   "execution_count": 34,
   "metadata": {},
   "outputs": [
    {
     "data": {
      "text/html": [
       "<div style=\"width:100%;\"><div style=\"position:relative;width:100%;height:0;padding-bottom:60%;\"><iframe src=\"data:text/html;charset=utf-8;base64,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\" style=\"position:absolute;width:100%;height:100%;left:0;top:0;border:none !important;\" allowfullscreen webkitallowfullscreen mozallowfullscreen></iframe></div></div>"
      ],
      "text/plain": [
       "<folium.folium.Map at 0x26b5eb534a8>"
      ]
     },
     "execution_count": 34,
     "metadata": {},
     "output_type": "execute_result"
    }
   ],
   "source": [
    "itabacalatlng = list(zip(itabaca.latitude.values,\n",
    "                   itabaca.longitude.values))\n",
    "\n",
    "fm.PolyLine(itabacalatlng,color='red').add_to(buddies)\n",
    "#fm.Marker(latlong[0],\n",
    " #         icon=fm.Icon(color='darkgreen',\n",
    "  #                    icon='play')).add_to(buddies)\n",
    "#fm.Marker(latlong[-1],\n",
    " #         icon=fm.Icon(color='darkred',\n",
    "  #                    icon='stop')).add_to(buddies)\n",
    "\n",
    "buddies"
   ]
  },
  {
   "cell_type": "code",
   "execution_count": null,
   "metadata": {},
   "outputs": [],
   "source": []
  },
  {
   "cell_type": "code",
   "execution_count": null,
   "metadata": {},
   "outputs": [],
   "source": []
  }
 ],
 "metadata": {
  "kernelspec": {
   "display_name": "Python 3",
   "language": "python",
   "name": "python3"
  },
  "language_info": {
   "codemirror_mode": {
    "name": "ipython",
    "version": 3
   },
   "file_extension": ".py",
   "mimetype": "text/x-python",
   "name": "python",
   "nbconvert_exporter": "python",
   "pygments_lexer": "ipython3",
   "version": "3.7.3"
  },
  "toc": {
   "base_numbering": 1,
   "nav_menu": {},
   "number_sections": true,
   "sideBar": true,
   "skip_h1_title": false,
   "title_cell": "Table of Contents",
   "title_sidebar": "Contents",
   "toc_cell": false,
   "toc_position": {
    "height": "calc(100% - 180px)",
    "left": "10px",
    "top": "150px",
    "width": "256px"
   },
   "toc_section_display": true,
   "toc_window_display": true
  }
 },
 "nbformat": 4,
 "nbformat_minor": 2
}
