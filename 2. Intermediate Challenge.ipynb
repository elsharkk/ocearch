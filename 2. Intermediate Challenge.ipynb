{
 "cells": [
  {
   "cell_type": "markdown",
   "metadata": {},
   "source": [
    "### Challenge questions\n",
    "\n",
    "Easy questions:\n",
    "\n",
    " 1. How many total pings are in the Ocearch shark data?\n",
    " 2. How many unique species of sharks are in the data set?\n",
    " 3. What is the name, weight, and species of the heaviest shark(s)?\n",
    " 4. When and where was the very first ping?\n",
    " 5. Excluding results with 0 distance traveled: what's the minimum, average, and maximum travel distances?\n",
    " \n",
    "Intermediate questions:\n",
    "\n",
    " 1. Which shark had the most pings?\n",
    " 2. Which shark has been pinging the longest, and how long has that been?\n",
    " 3. Which shark species has the most individual sharks tagged?\n",
    " 4. What is the average length and weight of each shark species?\n",
    " 5. Which shark has the biggest geographic box (largest distance from min lat/lon to max lat/lon, not dist_traveled)?\n",
    " "
   ]
  },
  {
   "cell_type": "markdown",
   "metadata": {},
   "source": [
    "### Load data"
   ]
  },
  {
   "cell_type": "code",
   "execution_count": 3,
   "metadata": {
    "ExecuteTime": {
     "end_time": "2019-02-23T02:46:51.745838Z",
     "start_time": "2019-02-23T02:46:51.164027Z"
    }
   },
   "outputs": [
    {
     "data": {
      "text/plain": [
       "(65793, 12)"
      ]
     },
     "execution_count": 3,
     "metadata": {},
     "output_type": "execute_result"
    }
   ],
   "source": [
    "import pandas as pd\n",
    "df = pd.read_csv('data/sharks.csv')\n",
    "df.shape"
   ]
  },
  {
   "cell_type": "markdown",
   "metadata": {},
   "source": [
    "#### Clean data"
   ]
  },
  {
   "cell_type": "code",
   "execution_count": 17,
   "metadata": {},
   "outputs": [
    {
     "data": {
      "text/html": [
       "<div>\n",
       "<style scoped>\n",
       "    .dataframe tbody tr th:only-of-type {\n",
       "        vertical-align: middle;\n",
       "    }\n",
       "\n",
       "    .dataframe tbody tr th {\n",
       "        vertical-align: top;\n",
       "    }\n",
       "\n",
       "    .dataframe thead th {\n",
       "        text-align: right;\n",
       "    }\n",
       "</style>\n",
       "<table border=\"1\" class=\"dataframe\">\n",
       "  <thead>\n",
       "    <tr style=\"text-align: right;\">\n",
       "      <th></th>\n",
       "      <th>active</th>\n",
       "      <th>datetime</th>\n",
       "      <th>id</th>\n",
       "      <th>latitude</th>\n",
       "      <th>longitude</th>\n",
       "      <th>name</th>\n",
       "      <th>gender</th>\n",
       "      <th>species</th>\n",
       "      <th>weight</th>\n",
       "      <th>length</th>\n",
       "      <th>tagDate</th>\n",
       "      <th>dist_total</th>\n",
       "    </tr>\n",
       "  </thead>\n",
       "  <tbody>\n",
       "    <tr>\n",
       "      <th>0</th>\n",
       "      <td>1</td>\n",
       "      <td>2014-07-06 04:57:28</td>\n",
       "      <td>3</td>\n",
       "      <td>-34.606610</td>\n",
       "      <td>21.152440</td>\n",
       "      <td>Oprah</td>\n",
       "      <td>Female</td>\n",
       "      <td>White Shark (Carcharodon carcharias)</td>\n",
       "      <td>686.0</td>\n",
       "      <td>118.0</td>\n",
       "      <td>7 March 2012</td>\n",
       "      <td>2816.662</td>\n",
       "    </tr>\n",
       "    <tr>\n",
       "      <th>1</th>\n",
       "      <td>1</td>\n",
       "      <td>2014-06-23 02:40:09</td>\n",
       "      <td>3</td>\n",
       "      <td>-34.787520</td>\n",
       "      <td>19.424790</td>\n",
       "      <td>Oprah</td>\n",
       "      <td>Female</td>\n",
       "      <td>White Shark (Carcharodon carcharias)</td>\n",
       "      <td>686.0</td>\n",
       "      <td>118.0</td>\n",
       "      <td>7 March 2012</td>\n",
       "      <td>2816.662</td>\n",
       "    </tr>\n",
       "    <tr>\n",
       "      <th>2</th>\n",
       "      <td>1</td>\n",
       "      <td>2014-06-15 13:15:44</td>\n",
       "      <td>3</td>\n",
       "      <td>-34.424870</td>\n",
       "      <td>21.097540</td>\n",
       "      <td>Oprah</td>\n",
       "      <td>Female</td>\n",
       "      <td>White Shark (Carcharodon carcharias)</td>\n",
       "      <td>686.0</td>\n",
       "      <td>118.0</td>\n",
       "      <td>7 March 2012</td>\n",
       "      <td>2816.662</td>\n",
       "    </tr>\n",
       "    <tr>\n",
       "      <th>3</th>\n",
       "      <td>1</td>\n",
       "      <td>2014-06-03 02:23:57</td>\n",
       "      <td>3</td>\n",
       "      <td>-34.704323</td>\n",
       "      <td>20.210134</td>\n",
       "      <td>Oprah</td>\n",
       "      <td>Female</td>\n",
       "      <td>White Shark (Carcharodon carcharias)</td>\n",
       "      <td>686.0</td>\n",
       "      <td>118.0</td>\n",
       "      <td>7 March 2012</td>\n",
       "      <td>2816.662</td>\n",
       "    </tr>\n",
       "    <tr>\n",
       "      <th>4</th>\n",
       "      <td>1</td>\n",
       "      <td>2014-05-28 19:53:57</td>\n",
       "      <td>3</td>\n",
       "      <td>-34.655560</td>\n",
       "      <td>19.374590</td>\n",
       "      <td>Oprah</td>\n",
       "      <td>Female</td>\n",
       "      <td>White Shark (Carcharodon carcharias)</td>\n",
       "      <td>686.0</td>\n",
       "      <td>118.0</td>\n",
       "      <td>7 March 2012</td>\n",
       "      <td>2816.662</td>\n",
       "    </tr>\n",
       "  </tbody>\n",
       "</table>\n",
       "</div>"
      ],
      "text/plain": [
       "   active            datetime  id   latitude  longitude   name  gender  \\\n",
       "0       1 2014-07-06 04:57:28   3 -34.606610  21.152440  Oprah  Female   \n",
       "1       1 2014-06-23 02:40:09   3 -34.787520  19.424790  Oprah  Female   \n",
       "2       1 2014-06-15 13:15:44   3 -34.424870  21.097540  Oprah  Female   \n",
       "3       1 2014-06-03 02:23:57   3 -34.704323  20.210134  Oprah  Female   \n",
       "4       1 2014-05-28 19:53:57   3 -34.655560  19.374590  Oprah  Female   \n",
       "\n",
       "                                species  weight  length       tagDate  \\\n",
       "0  White Shark (Carcharodon carcharias)   686.0   118.0  7 March 2012   \n",
       "1  White Shark (Carcharodon carcharias)   686.0   118.0  7 March 2012   \n",
       "2  White Shark (Carcharodon carcharias)   686.0   118.0  7 March 2012   \n",
       "3  White Shark (Carcharodon carcharias)   686.0   118.0  7 March 2012   \n",
       "4  White Shark (Carcharodon carcharias)   686.0   118.0  7 March 2012   \n",
       "\n",
       "   dist_total  \n",
       "0    2816.662  \n",
       "1    2816.662  \n",
       "2    2816.662  \n",
       "3    2816.662  \n",
       "4    2816.662  "
      ]
     },
     "execution_count": 17,
     "metadata": {},
     "output_type": "execute_result"
    }
   ],
   "source": [
    "#cleans datetime\n",
    "\n",
    "df['datetime'] = pd.to_datetime(df['datetime'])\n",
    "df.datetime[0]\n",
    "\n",
    "#cleans weight\n",
    "\n",
    "def clean_weight(value):\n",
    "    if not value:\n",
    "        return value\n",
    "    # most values are like \"123 lb\"\n",
    "    value = str(value)\n",
    "    for character in 'lbs,+':\n",
    "        value = value.replace(character, '')\n",
    "    return float(value)\n",
    "\n",
    "#cleans length\n",
    "\n",
    "def clean_length(value):\n",
    "    if not value:\n",
    "        return value\n",
    "    # most length values are like '3 ft 4 in.'\n",
    "    value = str(value)\n",
    "    total = 0\n",
    "    if 'ft' in value:\n",
    "        ft, inches = value.split('ft')\n",
    "        total += int(ft.strip()) * 12\n",
    "    else:\n",
    "        inches = value\n",
    "    if inches.strip():\n",
    "        total += float(inches.strip().split()[0])\n",
    "    return total\n",
    "\n",
    "df['weight'] = df.weight.apply(clean_weight)\n",
    "df['length'] = df.length.apply(clean_length)\n",
    "\n",
    "numeric_cols = ['latitude', 'longitude', 'dist_total', 'weight', 'length']\n",
    "df[numeric_cols] = df[numeric_cols].apply(pd.to_numeric, axis=1)\n",
    "df.head()"
   ]
  },
  {
   "cell_type": "markdown",
   "metadata": {},
   "source": [
    "### Explore data"
   ]
  },
  {
   "cell_type": "code",
   "execution_count": 13,
   "metadata": {
    "ExecuteTime": {
     "end_time": "2019-02-23T02:47:12.654544Z",
     "start_time": "2019-02-23T02:47:12.611547Z"
    }
   },
   "outputs": [
    {
     "name": "stdout",
     "output_type": "stream",
     "text": [
      "<class 'pandas.core.frame.DataFrame'>\n",
      "RangeIndex: 65793 entries, 0 to 65792\n",
      "Data columns (total 12 columns):\n",
      "active        65793 non-null int64\n",
      "datetime      65793 non-null datetime64[ns]\n",
      "id            65793 non-null int64\n",
      "latitude      65793 non-null float64\n",
      "longitude     65793 non-null float64\n",
      "name          65793 non-null object\n",
      "gender        65647 non-null object\n",
      "species       65793 non-null object\n",
      "weight        60385 non-null float64\n",
      "length        65220 non-null float64\n",
      "tagDate       65793 non-null object\n",
      "dist_total    65793 non-null float64\n",
      "dtypes: datetime64[ns](1), float64(5), int64(2), object(4)\n",
      "memory usage: 6.0+ MB\n"
     ]
    }
   ],
   "source": [
    "df.info()"
   ]
  },
  {
   "cell_type": "code",
   "execution_count": 14,
   "metadata": {
    "ExecuteTime": {
     "end_time": "2019-02-23T02:47:16.251641Z",
     "start_time": "2019-02-23T02:47:16.210653Z"
    }
   },
   "outputs": [
    {
     "data": {
      "text/html": [
       "<div>\n",
       "<style scoped>\n",
       "    .dataframe tbody tr th:only-of-type {\n",
       "        vertical-align: middle;\n",
       "    }\n",
       "\n",
       "    .dataframe tbody tr th {\n",
       "        vertical-align: top;\n",
       "    }\n",
       "\n",
       "    .dataframe thead th {\n",
       "        text-align: right;\n",
       "    }\n",
       "</style>\n",
       "<table border=\"1\" class=\"dataframe\">\n",
       "  <thead>\n",
       "    <tr style=\"text-align: right;\">\n",
       "      <th></th>\n",
       "      <th>active</th>\n",
       "      <th>id</th>\n",
       "      <th>latitude</th>\n",
       "      <th>longitude</th>\n",
       "      <th>weight</th>\n",
       "      <th>length</th>\n",
       "      <th>dist_total</th>\n",
       "    </tr>\n",
       "  </thead>\n",
       "  <tbody>\n",
       "    <tr>\n",
       "      <th>count</th>\n",
       "      <td>65793.0</td>\n",
       "      <td>65793.000000</td>\n",
       "      <td>65793.000000</td>\n",
       "      <td>65793.000000</td>\n",
       "      <td>60385.000000</td>\n",
       "      <td>65220.000000</td>\n",
       "      <td>65793.000000</td>\n",
       "    </tr>\n",
       "    <tr>\n",
       "      <th>mean</th>\n",
       "      <td>1.0</td>\n",
       "      <td>119.909990</td>\n",
       "      <td>9.703767</td>\n",
       "      <td>-35.911564</td>\n",
       "      <td>971.543797</td>\n",
       "      <td>120.537649</td>\n",
       "      <td>12567.781934</td>\n",
       "    </tr>\n",
       "    <tr>\n",
       "      <th>std</th>\n",
       "      <td>0.0</td>\n",
       "      <td>91.296923</td>\n",
       "      <td>31.761692</td>\n",
       "      <td>59.129796</td>\n",
       "      <td>1724.847731</td>\n",
       "      <td>39.936945</td>\n",
       "      <td>12754.985808</td>\n",
       "    </tr>\n",
       "    <tr>\n",
       "      <th>min</th>\n",
       "      <td>1.0</td>\n",
       "      <td>3.000000</td>\n",
       "      <td>-45.624150</td>\n",
       "      <td>-103.968670</td>\n",
       "      <td>30.900000</td>\n",
       "      <td>35.000000</td>\n",
       "      <td>0.000000</td>\n",
       "    </tr>\n",
       "    <tr>\n",
       "      <th>25%</th>\n",
       "      <td>1.0</td>\n",
       "      <td>38.000000</td>\n",
       "      <td>-28.398860</td>\n",
       "      <td>-75.472510</td>\n",
       "      <td>200.000000</td>\n",
       "      <td>90.000000</td>\n",
       "      <td>3048.274000</td>\n",
       "    </tr>\n",
       "    <tr>\n",
       "      <th>50%</th>\n",
       "      <td>1.0</td>\n",
       "      <td>98.000000</td>\n",
       "      <td>27.954280</td>\n",
       "      <td>-68.398400</td>\n",
       "      <td>409.000000</td>\n",
       "      <td>115.000000</td>\n",
       "      <td>8177.352000</td>\n",
       "    </tr>\n",
       "    <tr>\n",
       "      <th>75%</th>\n",
       "      <td>1.0</td>\n",
       "      <td>202.000000</td>\n",
       "      <td>38.188230</td>\n",
       "      <td>20.976100</td>\n",
       "      <td>1337.000000</td>\n",
       "      <td>151.000000</td>\n",
       "      <td>17811.853000</td>\n",
       "    </tr>\n",
       "    <tr>\n",
       "      <th>max</th>\n",
       "      <td>1.0</td>\n",
       "      <td>326.000000</td>\n",
       "      <td>53.658430</td>\n",
       "      <td>155.854300</td>\n",
       "      <td>25000.000000</td>\n",
       "      <td>360.000000</td>\n",
       "      <td>46553.182000</td>\n",
       "    </tr>\n",
       "  </tbody>\n",
       "</table>\n",
       "</div>"
      ],
      "text/plain": [
       "        active            id      latitude     longitude        weight  \\\n",
       "count  65793.0  65793.000000  65793.000000  65793.000000  60385.000000   \n",
       "mean       1.0    119.909990      9.703767    -35.911564    971.543797   \n",
       "std        0.0     91.296923     31.761692     59.129796   1724.847731   \n",
       "min        1.0      3.000000    -45.624150   -103.968670     30.900000   \n",
       "25%        1.0     38.000000    -28.398860    -75.472510    200.000000   \n",
       "50%        1.0     98.000000     27.954280    -68.398400    409.000000   \n",
       "75%        1.0    202.000000     38.188230     20.976100   1337.000000   \n",
       "max        1.0    326.000000     53.658430    155.854300  25000.000000   \n",
       "\n",
       "             length    dist_total  \n",
       "count  65220.000000  65793.000000  \n",
       "mean     120.537649  12567.781934  \n",
       "std       39.936945  12754.985808  \n",
       "min       35.000000      0.000000  \n",
       "25%       90.000000   3048.274000  \n",
       "50%      115.000000   8177.352000  \n",
       "75%      151.000000  17811.853000  \n",
       "max      360.000000  46553.182000  "
      ]
     },
     "execution_count": 14,
     "metadata": {},
     "output_type": "execute_result"
    }
   ],
   "source": [
    "df.describe()"
   ]
  },
  {
   "cell_type": "code",
   "execution_count": 16,
   "metadata": {
    "ExecuteTime": {
     "end_time": "2019-02-23T02:47:18.972512Z",
     "start_time": "2019-02-23T02:47:18.962514Z"
    }
   },
   "outputs": [
    {
     "data": {
      "text/html": [
       "<div>\n",
       "<style scoped>\n",
       "    .dataframe tbody tr th:only-of-type {\n",
       "        vertical-align: middle;\n",
       "    }\n",
       "\n",
       "    .dataframe tbody tr th {\n",
       "        vertical-align: top;\n",
       "    }\n",
       "\n",
       "    .dataframe thead th {\n",
       "        text-align: right;\n",
       "    }\n",
       "</style>\n",
       "<table border=\"1\" class=\"dataframe\">\n",
       "  <thead>\n",
       "    <tr style=\"text-align: right;\">\n",
       "      <th></th>\n",
       "      <th>active</th>\n",
       "      <th>datetime</th>\n",
       "      <th>id</th>\n",
       "      <th>latitude</th>\n",
       "      <th>longitude</th>\n",
       "      <th>name</th>\n",
       "      <th>gender</th>\n",
       "      <th>species</th>\n",
       "      <th>weight</th>\n",
       "      <th>length</th>\n",
       "      <th>tagDate</th>\n",
       "      <th>dist_total</th>\n",
       "    </tr>\n",
       "  </thead>\n",
       "  <tbody>\n",
       "    <tr>\n",
       "      <th>0</th>\n",
       "      <td>1</td>\n",
       "      <td>2014-07-06 04:57:28</td>\n",
       "      <td>3</td>\n",
       "      <td>-34.606610</td>\n",
       "      <td>21.152440</td>\n",
       "      <td>Oprah</td>\n",
       "      <td>Female</td>\n",
       "      <td>White Shark (Carcharodon carcharias)</td>\n",
       "      <td>686.0</td>\n",
       "      <td>118.0</td>\n",
       "      <td>7 March 2012</td>\n",
       "      <td>2816.662</td>\n",
       "    </tr>\n",
       "    <tr>\n",
       "      <th>1</th>\n",
       "      <td>1</td>\n",
       "      <td>2014-06-23 02:40:09</td>\n",
       "      <td>3</td>\n",
       "      <td>-34.787520</td>\n",
       "      <td>19.424790</td>\n",
       "      <td>Oprah</td>\n",
       "      <td>Female</td>\n",
       "      <td>White Shark (Carcharodon carcharias)</td>\n",
       "      <td>686.0</td>\n",
       "      <td>118.0</td>\n",
       "      <td>7 March 2012</td>\n",
       "      <td>2816.662</td>\n",
       "    </tr>\n",
       "    <tr>\n",
       "      <th>2</th>\n",
       "      <td>1</td>\n",
       "      <td>2014-06-15 13:15:44</td>\n",
       "      <td>3</td>\n",
       "      <td>-34.424870</td>\n",
       "      <td>21.097540</td>\n",
       "      <td>Oprah</td>\n",
       "      <td>Female</td>\n",
       "      <td>White Shark (Carcharodon carcharias)</td>\n",
       "      <td>686.0</td>\n",
       "      <td>118.0</td>\n",
       "      <td>7 March 2012</td>\n",
       "      <td>2816.662</td>\n",
       "    </tr>\n",
       "    <tr>\n",
       "      <th>3</th>\n",
       "      <td>1</td>\n",
       "      <td>2014-06-03 02:23:57</td>\n",
       "      <td>3</td>\n",
       "      <td>-34.704323</td>\n",
       "      <td>20.210134</td>\n",
       "      <td>Oprah</td>\n",
       "      <td>Female</td>\n",
       "      <td>White Shark (Carcharodon carcharias)</td>\n",
       "      <td>686.0</td>\n",
       "      <td>118.0</td>\n",
       "      <td>7 March 2012</td>\n",
       "      <td>2816.662</td>\n",
       "    </tr>\n",
       "    <tr>\n",
       "      <th>4</th>\n",
       "      <td>1</td>\n",
       "      <td>2014-05-28 19:53:57</td>\n",
       "      <td>3</td>\n",
       "      <td>-34.655560</td>\n",
       "      <td>19.374590</td>\n",
       "      <td>Oprah</td>\n",
       "      <td>Female</td>\n",
       "      <td>White Shark (Carcharodon carcharias)</td>\n",
       "      <td>686.0</td>\n",
       "      <td>118.0</td>\n",
       "      <td>7 March 2012</td>\n",
       "      <td>2816.662</td>\n",
       "    </tr>\n",
       "  </tbody>\n",
       "</table>\n",
       "</div>"
      ],
      "text/plain": [
       "   active            datetime  id   latitude  longitude   name  gender  \\\n",
       "0       1 2014-07-06 04:57:28   3 -34.606610  21.152440  Oprah  Female   \n",
       "1       1 2014-06-23 02:40:09   3 -34.787520  19.424790  Oprah  Female   \n",
       "2       1 2014-06-15 13:15:44   3 -34.424870  21.097540  Oprah  Female   \n",
       "3       1 2014-06-03 02:23:57   3 -34.704323  20.210134  Oprah  Female   \n",
       "4       1 2014-05-28 19:53:57   3 -34.655560  19.374590  Oprah  Female   \n",
       "\n",
       "                                species  weight  length       tagDate  \\\n",
       "0  White Shark (Carcharodon carcharias)   686.0   118.0  7 March 2012   \n",
       "1  White Shark (Carcharodon carcharias)   686.0   118.0  7 March 2012   \n",
       "2  White Shark (Carcharodon carcharias)   686.0   118.0  7 March 2012   \n",
       "3  White Shark (Carcharodon carcharias)   686.0   118.0  7 March 2012   \n",
       "4  White Shark (Carcharodon carcharias)   686.0   118.0  7 March 2012   \n",
       "\n",
       "   dist_total  \n",
       "0    2816.662  \n",
       "1    2816.662  \n",
       "2    2816.662  \n",
       "3    2816.662  \n",
       "4    2816.662  "
      ]
     },
     "execution_count": 16,
     "metadata": {},
     "output_type": "execute_result"
    }
   ],
   "source": [
    "df.head()"
   ]
  },
  {
   "cell_type": "code",
   "execution_count": 18,
   "metadata": {},
   "outputs": [
    {
     "data": {
      "text/plain": [
       "Timestamp('2014-07-06 04:57:28')"
      ]
     },
     "execution_count": 18,
     "metadata": {},
     "output_type": "execute_result"
    }
   ],
   "source": [
    "df.datetime[0]"
   ]
  },
  {
   "cell_type": "markdown",
   "metadata": {},
   "source": [
    "#### Intermediate questions\n",
    "\n",
    " 1. Which shark had the most pings?\n",
    " 2. Which shark has been pinging the longest, and how long has that been?\n",
    " 3. Which shark species has the most individual sharks tagged?\n",
    " 4. What is the average length and weight of each shark species?\n",
    " 5. Which shark has the biggest geographic box (largest distance from min lat/lon to max lat/lon, not dist_traveled)?"
   ]
  },
  {
   "cell_type": "markdown",
   "metadata": {},
   "source": [
    "##### Most pings\n",
    "Which shark had the most pings?"
   ]
  },
  {
   "cell_type": "code",
   "execution_count": null,
   "metadata": {
    "ExecuteTime": {
     "end_time": "2019-02-23T02:41:28.966795Z",
     "start_time": "2019-02-23T02:41:28.720932Z"
    }
   },
   "outputs": [],
   "source": [
    "Mary Lee, 3240 pings"
   ]
  },
  {
   "cell_type": "code",
   "execution_count": 53,
   "metadata": {},
   "outputs": [
    {
     "data": {
      "text/plain": [
       "id\n",
       "41     3240\n",
       "56     2946\n",
       "202    2366\n",
       "60     2134\n",
       "32     1851\n",
       "dtype: int64"
      ]
     },
     "execution_count": 53,
     "metadata": {},
     "output_type": "execute_result"
    }
   ],
   "source": [
    "pingcount = df.groupby('id').size().sort_values(ascending=False)\n",
    "df[df.id == 41]\n",
    "pingcount.head()"
   ]
  },
  {
   "cell_type": "markdown",
   "metadata": {},
   "source": [
    "##### Longest duration pinger\n",
    "Which shark has been pinging the longest, and how long has that been?"
   ]
  },
  {
   "cell_type": "code",
   "execution_count": null,
   "metadata": {},
   "outputs": [],
   "source": [
    "Katharine, 1972 days"
   ]
  },
  {
   "cell_type": "code",
   "execution_count": 50,
   "metadata": {},
   "outputs": [
    {
     "data": {
      "text/plain": [
       "id\n",
       "3   2014-07-06 04:57:28\n",
       "4   2014-06-26 22:33:40\n",
       "5   2017-01-05 05:22:39\n",
       "6   2012-10-18 21:16:44\n",
       "7   2012-10-09 15:02:00\n",
       "Name: datetime, dtype: datetime64[ns]"
      ]
     },
     "execution_count": 50,
     "metadata": {},
     "output_type": "execute_result"
    }
   ],
   "source": [
    "firstname = df.groupby('id').name.first()\n",
    "species = df.groupby('id').species.first()\n",
    "firstping = df.groupby('id').datetime.min()\n",
    "lastping = df.groupby('id').datetime.max()\n",
    "lastping.head()"
   ]
  },
  {
   "cell_type": "code",
   "execution_count": 58,
   "metadata": {},
   "outputs": [
    {
     "data": {
      "text/html": [
       "<div>\n",
       "<style scoped>\n",
       "    .dataframe tbody tr th:only-of-type {\n",
       "        vertical-align: middle;\n",
       "    }\n",
       "\n",
       "    .dataframe tbody tr th {\n",
       "        vertical-align: top;\n",
       "    }\n",
       "\n",
       "    .dataframe thead th {\n",
       "        text-align: right;\n",
       "    }\n",
       "</style>\n",
       "<table border=\"1\" class=\"dataframe\">\n",
       "  <thead>\n",
       "    <tr style=\"text-align: right;\">\n",
       "      <th></th>\n",
       "      <th>id</th>\n",
       "      <th>name</th>\n",
       "      <th>species</th>\n",
       "      <th>pings</th>\n",
       "      <th>first ping</th>\n",
       "      <th>last ping</th>\n",
       "    </tr>\n",
       "  </thead>\n",
       "  <tbody>\n",
       "    <tr>\n",
       "      <th>35</th>\n",
       "      <td>41</td>\n",
       "      <td>Mary Lee</td>\n",
       "      <td>White Shark (Carcharodon carcharias)</td>\n",
       "      <td>3240</td>\n",
       "      <td>2012-09-18 09:34:28</td>\n",
       "      <td>2017-06-17 10:54:32</td>\n",
       "    </tr>\n",
       "    <tr>\n",
       "      <th>36</th>\n",
       "      <td>56</td>\n",
       "      <td>Lydia</td>\n",
       "      <td>White Shark (Carcharodon carcharias)</td>\n",
       "      <td>2946</td>\n",
       "      <td>2013-03-03 08:03:13</td>\n",
       "      <td>2017-03-15 02:31:34</td>\n",
       "    </tr>\n",
       "    <tr>\n",
       "      <th>154</th>\n",
       "      <td>202</td>\n",
       "      <td>Oscar</td>\n",
       "      <td>Mako Shark (Isurus oxyrinchus)</td>\n",
       "      <td>2366</td>\n",
       "      <td>2016-07-09 00:14:38</td>\n",
       "      <td>2019-01-29 20:32:35</td>\n",
       "    </tr>\n",
       "    <tr>\n",
       "      <th>40</th>\n",
       "      <td>60</td>\n",
       "      <td>April</td>\n",
       "      <td>Mako Shark (Isurus oxyrinchus)</td>\n",
       "      <td>2134</td>\n",
       "      <td>2013-07-28 17:00:04</td>\n",
       "      <td>2014-06-17 11:17:03</td>\n",
       "    </tr>\n",
       "    <tr>\n",
       "      <th>26</th>\n",
       "      <td>32</td>\n",
       "      <td>Lisha</td>\n",
       "      <td>White Shark (Carcharodon carcharias)</td>\n",
       "      <td>1851</td>\n",
       "      <td>2012-05-14 15:43:21</td>\n",
       "      <td>2014-04-03 12:48:57</td>\n",
       "    </tr>\n",
       "  </tbody>\n",
       "</table>\n",
       "</div>"
      ],
      "text/plain": [
       "      id      name                               species  pings  \\\n",
       "35    41  Mary Lee  White Shark (Carcharodon carcharias)   3240   \n",
       "36    56     Lydia  White Shark (Carcharodon carcharias)   2946   \n",
       "154  202     Oscar        Mako Shark (Isurus oxyrinchus)   2366   \n",
       "40    60     April        Mako Shark (Isurus oxyrinchus)   2134   \n",
       "26    32     Lisha  White Shark (Carcharodon carcharias)   1851   \n",
       "\n",
       "             first ping           last ping  \n",
       "35  2012-09-18 09:34:28 2017-06-17 10:54:32  \n",
       "36  2013-03-03 08:03:13 2017-03-15 02:31:34  \n",
       "154 2016-07-09 00:14:38 2019-01-29 20:32:35  \n",
       "40  2013-07-28 17:00:04 2014-06-17 11:17:03  \n",
       "26  2012-05-14 15:43:21 2014-04-03 12:48:57  "
      ]
     },
     "execution_count": 58,
     "metadata": {},
     "output_type": "execute_result"
    }
   ],
   "source": [
    "pingsummaries = pd.concat([firstname,species,pingcount,firstping,lastping], axis=1).reset_index()\n",
    "pingsummaries.columns = ['id','name','species','pings','first ping','last ping']\n",
    "pingsummaries.sort_values(by='pings',ascending=False).head()"
   ]
  },
  {
   "cell_type": "code",
   "execution_count": 69,
   "metadata": {},
   "outputs": [
    {
     "data": {
      "text/html": [
       "<div>\n",
       "<style scoped>\n",
       "    .dataframe tbody tr th:only-of-type {\n",
       "        vertical-align: middle;\n",
       "    }\n",
       "\n",
       "    .dataframe tbody tr th {\n",
       "        vertical-align: top;\n",
       "    }\n",
       "\n",
       "    .dataframe thead th {\n",
       "        text-align: right;\n",
       "    }\n",
       "</style>\n",
       "<table border=\"1\" class=\"dataframe\">\n",
       "  <thead>\n",
       "    <tr style=\"text-align: right;\">\n",
       "      <th></th>\n",
       "      <th>id</th>\n",
       "      <th>name</th>\n",
       "      <th>species</th>\n",
       "      <th>pings</th>\n",
       "      <th>first ping</th>\n",
       "      <th>last ping</th>\n",
       "      <th>duration</th>\n",
       "    </tr>\n",
       "  </thead>\n",
       "  <tbody>\n",
       "    <tr>\n",
       "      <th>45</th>\n",
       "      <td>65</td>\n",
       "      <td>Katharine</td>\n",
       "      <td>White Shark (Carcharodon carcharias)</td>\n",
       "      <td>1816</td>\n",
       "      <td>2013-08-21 04:42:26</td>\n",
       "      <td>2019-01-14 23:49:00</td>\n",
       "      <td>1972 days 19:06:34</td>\n",
       "    </tr>\n",
       "    <tr>\n",
       "      <th>2</th>\n",
       "      <td>5</td>\n",
       "      <td>Helen</td>\n",
       "      <td>White Shark (Carcharodon carcharias)</td>\n",
       "      <td>204</td>\n",
       "      <td>2012-03-10 15:15:10</td>\n",
       "      <td>2017-01-05 05:22:39</td>\n",
       "      <td>1761 days 14:07:29</td>\n",
       "    </tr>\n",
       "    <tr>\n",
       "      <th>35</th>\n",
       "      <td>41</td>\n",
       "      <td>Mary Lee</td>\n",
       "      <td>White Shark (Carcharodon carcharias)</td>\n",
       "      <td>3240</td>\n",
       "      <td>2012-09-18 09:34:28</td>\n",
       "      <td>2017-06-17 10:54:32</td>\n",
       "      <td>1733 days 01:20:04</td>\n",
       "    </tr>\n",
       "    <tr>\n",
       "      <th>36</th>\n",
       "      <td>56</td>\n",
       "      <td>Lydia</td>\n",
       "      <td>White Shark (Carcharodon carcharias)</td>\n",
       "      <td>2946</td>\n",
       "      <td>2013-03-03 08:03:13</td>\n",
       "      <td>2017-03-15 02:31:34</td>\n",
       "      <td>1472 days 18:28:21</td>\n",
       "    </tr>\n",
       "    <tr>\n",
       "      <th>19</th>\n",
       "      <td>25</td>\n",
       "      <td>Cyndi</td>\n",
       "      <td>White Shark (Carcharodon carcharias)</td>\n",
       "      <td>1578</td>\n",
       "      <td>2012-04-14 15:50:25</td>\n",
       "      <td>2015-09-21 15:00:43</td>\n",
       "      <td>1254 days 23:10:18</td>\n",
       "    </tr>\n",
       "  </tbody>\n",
       "</table>\n",
       "</div>"
      ],
      "text/plain": [
       "    id       name                               species  pings  \\\n",
       "45  65  Katharine  White Shark (Carcharodon carcharias)   1816   \n",
       "2    5     Helen   White Shark (Carcharodon carcharias)    204   \n",
       "35  41   Mary Lee  White Shark (Carcharodon carcharias)   3240   \n",
       "36  56      Lydia  White Shark (Carcharodon carcharias)   2946   \n",
       "19  25      Cyndi  White Shark (Carcharodon carcharias)   1578   \n",
       "\n",
       "            first ping           last ping           duration  \n",
       "45 2013-08-21 04:42:26 2019-01-14 23:49:00 1972 days 19:06:34  \n",
       "2  2012-03-10 15:15:10 2017-01-05 05:22:39 1761 days 14:07:29  \n",
       "35 2012-09-18 09:34:28 2017-06-17 10:54:32 1733 days 01:20:04  \n",
       "36 2013-03-03 08:03:13 2017-03-15 02:31:34 1472 days 18:28:21  \n",
       "19 2012-04-14 15:50:25 2015-09-21 15:00:43 1254 days 23:10:18  "
      ]
     },
     "execution_count": 69,
     "metadata": {},
     "output_type": "execute_result"
    }
   ],
   "source": [
    "pingsummaries['duration'] = pingsummaries['last ping'] - pingsummaries['first ping']\n",
    "longestpinging = pingsummaries.sort_values(by='duration',ascending=False)\n",
    "longestpinging.head()"
   ]
  },
  {
   "cell_type": "markdown",
   "metadata": {},
   "source": [
    "##### Individual count by species\n",
    "Which shark species has the most individual sharks tagged?"
   ]
  },
  {
   "cell_type": "code",
   "execution_count": null,
   "metadata": {
    "ExecuteTime": {
     "end_time": "2019-02-23T02:41:29.181887Z",
     "start_time": "2019-02-23T02:41:29.031812Z"
    }
   },
   "outputs": [],
   "source": [
    "Tiger Shark, 82"
   ]
  },
  {
   "cell_type": "code",
   "execution_count": 130,
   "metadata": {},
   "outputs": [
    {
     "data": {
      "text/plain": [
       "species\n",
       "Tiger Shark  (Galeocerdo cuvier)          82\n",
       "White Shark (Carcharodon carcharias)      74\n",
       "Blue Shark (Prionace glauca)              27\n",
       "Mako Shark (Isurus oxyrinchus)            18\n",
       "Hammerhead Shark (Sphyrna)                18\n",
       "Blacktip Shark (Carcharhinus limbatus)     9\n",
       "Silky Shark (Carcharhinus falciformis)     4\n",
       "Bull Shark (Carcharhinus leucas)           4\n",
       "Whale Shark (Rhincodon Typus)              3\n",
       "Name: id, dtype: int64"
      ]
     },
     "execution_count": 130,
     "metadata": {},
     "output_type": "execute_result"
    }
   ],
   "source": [
    "individualtags = pingsummaries.groupby('species').id.nunique()\n",
    "individualtags.sort_values(ascending=False)"
   ]
  },
  {
   "cell_type": "markdown",
   "metadata": {},
   "source": [
    "##### Average length/weight by species\n",
    "What is the average length and weight of each shark species?"
   ]
  },
  {
   "cell_type": "code",
   "execution_count": null,
   "metadata": {
    "ExecuteTime": {
     "end_time": "2019-02-23T02:41:29.296962Z",
     "start_time": "2019-02-23T02:41:29.183906Z"
    }
   },
   "outputs": [],
   "source": [
    "See below"
   ]
  },
  {
   "cell_type": "code",
   "execution_count": 82,
   "metadata": {},
   "outputs": [
    {
     "data": {
      "text/html": [
       "<div>\n",
       "<style scoped>\n",
       "    .dataframe tbody tr th:only-of-type {\n",
       "        vertical-align: middle;\n",
       "    }\n",
       "\n",
       "    .dataframe tbody tr th {\n",
       "        vertical-align: top;\n",
       "    }\n",
       "\n",
       "    .dataframe thead th {\n",
       "        text-align: right;\n",
       "    }\n",
       "</style>\n",
       "<table border=\"1\" class=\"dataframe\">\n",
       "  <thead>\n",
       "    <tr style=\"text-align: right;\">\n",
       "      <th></th>\n",
       "      <th>weight</th>\n",
       "      <th>length</th>\n",
       "    </tr>\n",
       "    <tr>\n",
       "      <th>species</th>\n",
       "      <th></th>\n",
       "      <th></th>\n",
       "    </tr>\n",
       "  </thead>\n",
       "  <tbody>\n",
       "    <tr>\n",
       "      <th>Blacktip Shark (Carcharhinus limbatus)</th>\n",
       "      <td>138.378910</td>\n",
       "      <td>80.316209</td>\n",
       "    </tr>\n",
       "    <tr>\n",
       "      <th>Blue Shark (Prionace glauca)</th>\n",
       "      <td>243.634091</td>\n",
       "      <td>106.028852</td>\n",
       "    </tr>\n",
       "    <tr>\n",
       "      <th>Bull Shark (Carcharhinus leucas)</th>\n",
       "      <td>290.400000</td>\n",
       "      <td>89.781022</td>\n",
       "    </tr>\n",
       "    <tr>\n",
       "      <th>Hammerhead Shark (Sphyrna)</th>\n",
       "      <td>126.532226</td>\n",
       "      <td>93.813093</td>\n",
       "    </tr>\n",
       "    <tr>\n",
       "      <th>Mako Shark (Isurus oxyrinchus)</th>\n",
       "      <td>240.451871</td>\n",
       "      <td>82.446834</td>\n",
       "    </tr>\n",
       "    <tr>\n",
       "      <th>Silky Shark (Carcharhinus falciformis)</th>\n",
       "      <td>132.881671</td>\n",
       "      <td>76.965197</td>\n",
       "    </tr>\n",
       "    <tr>\n",
       "      <th>Tiger Shark  (Galeocerdo cuvier)</th>\n",
       "      <td>467.917390</td>\n",
       "      <td>119.175229</td>\n",
       "    </tr>\n",
       "    <tr>\n",
       "      <th>Whale Shark (Rhincodon Typus)</th>\n",
       "      <td>25000.000000</td>\n",
       "      <td>327.906977</td>\n",
       "    </tr>\n",
       "    <tr>\n",
       "      <th>White Shark (Carcharodon carcharias)</th>\n",
       "      <td>1555.265789</td>\n",
       "      <td>147.144227</td>\n",
       "    </tr>\n",
       "  </tbody>\n",
       "</table>\n",
       "</div>"
      ],
      "text/plain": [
       "                                              weight      length\n",
       "species                                                         \n",
       "Blacktip Shark (Carcharhinus limbatus)    138.378910   80.316209\n",
       "Blue Shark (Prionace glauca)              243.634091  106.028852\n",
       "Bull Shark (Carcharhinus leucas)          290.400000   89.781022\n",
       "Hammerhead Shark (Sphyrna)                126.532226   93.813093\n",
       "Mako Shark (Isurus oxyrinchus)            240.451871   82.446834\n",
       "Silky Shark (Carcharhinus falciformis)    132.881671   76.965197\n",
       "Tiger Shark  (Galeocerdo cuvier)          467.917390  119.175229\n",
       "Whale Shark (Rhincodon Typus)           25000.000000  327.906977\n",
       "White Shark (Carcharodon carcharias)     1555.265789  147.144227"
      ]
     },
     "execution_count": 82,
     "metadata": {},
     "output_type": "execute_result"
    }
   ],
   "source": [
    "df.groupby('species').agg({'weight':'mean','length':'mean'})"
   ]
  },
  {
   "cell_type": "markdown",
   "metadata": {},
   "source": [
    "##### Biggest geographic box\n",
    "Which shark has the biggest geographic box (largest area calculated from min lat/lon to max lat/lon, not dist_traveled)?"
   ]
  },
  {
   "cell_type": "code",
   "execution_count": null,
   "metadata": {
    "ExecuteTime": {
     "end_time": "2019-02-23T02:41:29.354962Z",
     "start_time": "2019-02-23T02:41:29.297962Z"
    }
   },
   "outputs": [],
   "source": [
    "Kathryn, 1851.608381"
   ]
  },
  {
   "cell_type": "code",
   "execution_count": 97,
   "metadata": {},
   "outputs": [
    {
     "data": {
      "text/html": [
       "<div>\n",
       "<style scoped>\n",
       "    .dataframe tbody tr th:only-of-type {\n",
       "        vertical-align: middle;\n",
       "    }\n",
       "\n",
       "    .dataframe tbody tr th {\n",
       "        vertical-align: top;\n",
       "    }\n",
       "\n",
       "    .dataframe thead th {\n",
       "        text-align: right;\n",
       "    }\n",
       "</style>\n",
       "<table border=\"1\" class=\"dataframe\">\n",
       "  <thead>\n",
       "    <tr style=\"text-align: right;\">\n",
       "      <th></th>\n",
       "      <th>minlat</th>\n",
       "      <th>maxlat</th>\n",
       "      <th>minlong</th>\n",
       "      <th>maxlong</th>\n",
       "    </tr>\n",
       "    <tr>\n",
       "      <th>id</th>\n",
       "      <th></th>\n",
       "      <th></th>\n",
       "      <th></th>\n",
       "      <th></th>\n",
       "    </tr>\n",
       "  </thead>\n",
       "  <tbody>\n",
       "    <tr>\n",
       "      <th>3</th>\n",
       "      <td>-34.88268</td>\n",
       "      <td>-34.05394</td>\n",
       "      <td>19.374590</td>\n",
       "      <td>22.64236</td>\n",
       "    </tr>\n",
       "    <tr>\n",
       "      <th>4</th>\n",
       "      <td>-36.70300</td>\n",
       "      <td>-34.06300</td>\n",
       "      <td>20.535038</td>\n",
       "      <td>22.74626</td>\n",
       "    </tr>\n",
       "    <tr>\n",
       "      <th>5</th>\n",
       "      <td>-37.23623</td>\n",
       "      <td>-19.50057</td>\n",
       "      <td>18.536350</td>\n",
       "      <td>37.84922</td>\n",
       "    </tr>\n",
       "    <tr>\n",
       "      <th>6</th>\n",
       "      <td>-34.98600</td>\n",
       "      <td>-24.77363</td>\n",
       "      <td>19.061580</td>\n",
       "      <td>34.84301</td>\n",
       "    </tr>\n",
       "    <tr>\n",
       "      <th>7</th>\n",
       "      <td>-35.46100</td>\n",
       "      <td>-32.74300</td>\n",
       "      <td>17.916810</td>\n",
       "      <td>27.97646</td>\n",
       "    </tr>\n",
       "  </tbody>\n",
       "</table>\n",
       "</div>"
      ],
      "text/plain": [
       "      minlat    maxlat    minlong   maxlong\n",
       "id                                         \n",
       "3  -34.88268 -34.05394  19.374590  22.64236\n",
       "4  -36.70300 -34.06300  20.535038  22.74626\n",
       "5  -37.23623 -19.50057  18.536350  37.84922\n",
       "6  -34.98600 -24.77363  19.061580  34.84301\n",
       "7  -35.46100 -32.74300  17.916810  27.97646"
      ]
     },
     "execution_count": 97,
     "metadata": {},
     "output_type": "execute_result"
    }
   ],
   "source": [
    "geographicbox = df.groupby('id')\n",
    "geoboxdf = pd.concat([geographicbox.latitude.min(),geographicbox.latitude.max(),\n",
    "                      geographicbox.longitude.min(),geographicbox.longitude.max()],\n",
    "                    axis=1)\n",
    "geoboxdf.columns = ['minlat','maxlat','minlong','maxlong']\n",
    "geoboxdf.head()"
   ]
  },
  {
   "cell_type": "code",
   "execution_count": 110,
   "metadata": {},
   "outputs": [
    {
     "data": {
      "text/html": [
       "<div>\n",
       "<style scoped>\n",
       "    .dataframe tbody tr th:only-of-type {\n",
       "        vertical-align: middle;\n",
       "    }\n",
       "\n",
       "    .dataframe tbody tr th {\n",
       "        vertical-align: top;\n",
       "    }\n",
       "\n",
       "    .dataframe thead th {\n",
       "        text-align: right;\n",
       "    }\n",
       "</style>\n",
       "<table border=\"1\" class=\"dataframe\">\n",
       "  <thead>\n",
       "    <tr style=\"text-align: right;\">\n",
       "      <th></th>\n",
       "      <th>minlat</th>\n",
       "      <th>maxlat</th>\n",
       "      <th>minlong</th>\n",
       "      <th>maxlong</th>\n",
       "      <th>latchange</th>\n",
       "      <th>longchange</th>\n",
       "      <th>area</th>\n",
       "    </tr>\n",
       "    <tr>\n",
       "      <th>id</th>\n",
       "      <th></th>\n",
       "      <th></th>\n",
       "      <th></th>\n",
       "      <th></th>\n",
       "      <th></th>\n",
       "      <th></th>\n",
       "      <th></th>\n",
       "    </tr>\n",
       "  </thead>\n",
       "  <tbody>\n",
       "    <tr>\n",
       "      <th>35</th>\n",
       "      <td>-41.37174</td>\n",
       "      <td>-6.15888</td>\n",
       "      <td>18.51500</td>\n",
       "      <td>71.09830</td>\n",
       "      <td>35.21286</td>\n",
       "      <td>52.58330</td>\n",
       "      <td>1851.608381</td>\n",
       "    </tr>\n",
       "    <tr>\n",
       "      <th>56</th>\n",
       "      <td>23.53902</td>\n",
       "      <td>53.65843</td>\n",
       "      <td>-81.38180</td>\n",
       "      <td>-27.48272</td>\n",
       "      <td>30.11941</td>\n",
       "      <td>53.89908</td>\n",
       "      <td>1623.408489</td>\n",
       "    </tr>\n",
       "    <tr>\n",
       "      <th>30</th>\n",
       "      <td>-43.21756</td>\n",
       "      <td>-19.11709</td>\n",
       "      <td>8.06196</td>\n",
       "      <td>66.72966</td>\n",
       "      <td>24.10047</td>\n",
       "      <td>58.66770</td>\n",
       "      <td>1413.919144</td>\n",
       "    </tr>\n",
       "    <tr>\n",
       "      <th>25</th>\n",
       "      <td>-45.61157</td>\n",
       "      <td>-14.95129</td>\n",
       "      <td>18.23305</td>\n",
       "      <td>61.87323</td>\n",
       "      <td>30.66028</td>\n",
       "      <td>43.64018</td>\n",
       "      <td>1338.020138</td>\n",
       "    </tr>\n",
       "    <tr>\n",
       "      <th>36</th>\n",
       "      <td>-38.82461</td>\n",
       "      <td>-10.52038</td>\n",
       "      <td>17.47565</td>\n",
       "      <td>62.65514</td>\n",
       "      <td>28.30423</td>\n",
       "      <td>45.17949</td>\n",
       "      <td>1278.770676</td>\n",
       "    </tr>\n",
       "  </tbody>\n",
       "</table>\n",
       "</div>"
      ],
      "text/plain": [
       "      minlat    maxlat   minlong   maxlong  latchange  longchange         area\n",
       "id                                                                            \n",
       "35 -41.37174  -6.15888  18.51500  71.09830   35.21286    52.58330  1851.608381\n",
       "56  23.53902  53.65843 -81.38180 -27.48272   30.11941    53.89908  1623.408489\n",
       "30 -43.21756 -19.11709   8.06196  66.72966   24.10047    58.66770  1413.919144\n",
       "25 -45.61157 -14.95129  18.23305  61.87323   30.66028    43.64018  1338.020138\n",
       "36 -38.82461 -10.52038  17.47565  62.65514   28.30423    45.17949  1278.770676"
      ]
     },
     "execution_count": 110,
     "metadata": {},
     "output_type": "execute_result"
    }
   ],
   "source": [
    "geoboxdf['latchange'] = geoboxdf['maxlat'] - geoboxdf['minlat']\n",
    "geoboxdf['longchange'] = geoboxdf['maxlong'] - geoboxdf['minlong']\n",
    "geoboxdf.head()\n",
    "geoboxdf['area'] = geoboxdf['latchange'] * geoboxdf['longchange']\n",
    "geoboxdf.sort_values(by='area',ascending=False).head()\n",
    "#df[df.id == 35].head()"
   ]
  },
  {
   "cell_type": "markdown",
   "metadata": {},
   "source": [
    "#### Plotting"
   ]
  },
  {
   "cell_type": "code",
   "execution_count": 108,
   "metadata": {},
   "outputs": [],
   "source": [
    "import matplotlib.pyplot as plt\n",
    "%matplotlib inline"
   ]
  },
  {
   "cell_type": "code",
   "execution_count": 126,
   "metadata": {},
   "outputs": [],
   "source": [
    "longestpinging['days'] = [d.days for d in longestpinging['duration']]"
   ]
  },
  {
   "cell_type": "code",
   "execution_count": 137,
   "metadata": {},
   "outputs": [],
   "source": [
    "species = list(df.species.unique())\n",
    "raw_colours = ['ff5733', 'ea8b1e', 'fef65b', '8bef23', '24f0db', '2684da', '856145', '9c43d1', 'ef40e1']\n",
    "colours = [\"#\" + c for c in raw_colours]\n",
    "species_colour_dict = {species[i]:colours[i] for i in range(0, len(species))}\n",
    "\n",
    "longestpinging['colour'] = longestpinging['species'].map(species_colour_dict)"
   ]
  },
  {
   "cell_type": "code",
   "execution_count": 138,
   "metadata": {},
   "outputs": [
    {
     "data": {
      "text/html": [
       "<div>\n",
       "<style scoped>\n",
       "    .dataframe tbody tr th:only-of-type {\n",
       "        vertical-align: middle;\n",
       "    }\n",
       "\n",
       "    .dataframe tbody tr th {\n",
       "        vertical-align: top;\n",
       "    }\n",
       "\n",
       "    .dataframe thead th {\n",
       "        text-align: right;\n",
       "    }\n",
       "</style>\n",
       "<table border=\"1\" class=\"dataframe\">\n",
       "  <thead>\n",
       "    <tr style=\"text-align: right;\">\n",
       "      <th></th>\n",
       "      <th>id</th>\n",
       "      <th>name</th>\n",
       "      <th>species</th>\n",
       "      <th>pings</th>\n",
       "      <th>first ping</th>\n",
       "      <th>last ping</th>\n",
       "      <th>duration</th>\n",
       "      <th>days</th>\n",
       "      <th>colour</th>\n",
       "    </tr>\n",
       "  </thead>\n",
       "  <tbody>\n",
       "    <tr>\n",
       "      <th>45</th>\n",
       "      <td>65</td>\n",
       "      <td>Katharine</td>\n",
       "      <td>White Shark (Carcharodon carcharias)</td>\n",
       "      <td>1816</td>\n",
       "      <td>2013-08-21 04:42:26</td>\n",
       "      <td>2019-01-14 23:49:00</td>\n",
       "      <td>1972 days 19:06:34</td>\n",
       "      <td>1972</td>\n",
       "      <td>#ff5733</td>\n",
       "    </tr>\n",
       "    <tr>\n",
       "      <th>2</th>\n",
       "      <td>5</td>\n",
       "      <td>Helen</td>\n",
       "      <td>White Shark (Carcharodon carcharias)</td>\n",
       "      <td>204</td>\n",
       "      <td>2012-03-10 15:15:10</td>\n",
       "      <td>2017-01-05 05:22:39</td>\n",
       "      <td>1761 days 14:07:29</td>\n",
       "      <td>1761</td>\n",
       "      <td>#ff5733</td>\n",
       "    </tr>\n",
       "    <tr>\n",
       "      <th>35</th>\n",
       "      <td>41</td>\n",
       "      <td>Mary Lee</td>\n",
       "      <td>White Shark (Carcharodon carcharias)</td>\n",
       "      <td>3240</td>\n",
       "      <td>2012-09-18 09:34:28</td>\n",
       "      <td>2017-06-17 10:54:32</td>\n",
       "      <td>1733 days 01:20:04</td>\n",
       "      <td>1733</td>\n",
       "      <td>#ff5733</td>\n",
       "    </tr>\n",
       "    <tr>\n",
       "      <th>36</th>\n",
       "      <td>56</td>\n",
       "      <td>Lydia</td>\n",
       "      <td>White Shark (Carcharodon carcharias)</td>\n",
       "      <td>2946</td>\n",
       "      <td>2013-03-03 08:03:13</td>\n",
       "      <td>2017-03-15 02:31:34</td>\n",
       "      <td>1472 days 18:28:21</td>\n",
       "      <td>1472</td>\n",
       "      <td>#ff5733</td>\n",
       "    </tr>\n",
       "    <tr>\n",
       "      <th>19</th>\n",
       "      <td>25</td>\n",
       "      <td>Cyndi</td>\n",
       "      <td>White Shark (Carcharodon carcharias)</td>\n",
       "      <td>1578</td>\n",
       "      <td>2012-04-14 15:50:25</td>\n",
       "      <td>2015-09-21 15:00:43</td>\n",
       "      <td>1254 days 23:10:18</td>\n",
       "      <td>1254</td>\n",
       "      <td>#ff5733</td>\n",
       "    </tr>\n",
       "  </tbody>\n",
       "</table>\n",
       "</div>"
      ],
      "text/plain": [
       "    id       name                               species  pings  \\\n",
       "45  65  Katharine  White Shark (Carcharodon carcharias)   1816   \n",
       "2    5     Helen   White Shark (Carcharodon carcharias)    204   \n",
       "35  41   Mary Lee  White Shark (Carcharodon carcharias)   3240   \n",
       "36  56      Lydia  White Shark (Carcharodon carcharias)   2946   \n",
       "19  25      Cyndi  White Shark (Carcharodon carcharias)   1578   \n",
       "\n",
       "            first ping           last ping           duration  days   colour  \n",
       "45 2013-08-21 04:42:26 2019-01-14 23:49:00 1972 days 19:06:34  1972  #ff5733  \n",
       "2  2012-03-10 15:15:10 2017-01-05 05:22:39 1761 days 14:07:29  1761  #ff5733  \n",
       "35 2012-09-18 09:34:28 2017-06-17 10:54:32 1733 days 01:20:04  1733  #ff5733  \n",
       "36 2013-03-03 08:03:13 2017-03-15 02:31:34 1472 days 18:28:21  1472  #ff5733  \n",
       "19 2012-04-14 15:50:25 2015-09-21 15:00:43 1254 days 23:10:18  1254  #ff5733  "
      ]
     },
     "execution_count": 138,
     "metadata": {},
     "output_type": "execute_result"
    }
   ],
   "source": [
    "longestpinging.head()"
   ]
  },
  {
   "cell_type": "code",
   "execution_count": 172,
   "metadata": {},
   "outputs": [
    {
     "data": {
      "text/plain": [
       "<matplotlib.axes._subplots.AxesSubplot at 0x17d9f514860>"
      ]
     },
     "execution_count": 172,
     "metadata": {},
     "output_type": "execute_result"
    },
    {
     "data": {
      "image/png": "[encoded data removed]",
      "text/plain": [
       "<Figure size 1152x648 with 1 Axes>"
      ]
     },
     "metadata": {
      "needs_background": "light"
     },
     "output_type": "display_data"
    }
   ],
   "source": [
    "longestpinging.plot.scatter(figsize=(16,9),x='pings',y='days',color=longestpinging.colour)"
   ]
  },
  {
   "cell_type": "code",
   "execution_count": 167,
   "metadata": {},
   "outputs": [
    {
     "data": {
      "text/plain": [
       "<matplotlib.axes._subplots.AxesSubplot at 0x17d9edfe080>"
      ]
     },
     "execution_count": 167,
     "metadata": {},
     "output_type": "execute_result"
    },
    {
     "data": {
      "image/png": "[encoded data removed]",
      "text/plain": [
       "<Figure size 1152x648 with 1 Axes>"
      ]
     },
     "metadata": {
      "needs_background": "light"
     },
     "output_type": "display_data"
    }
   ],
   "source": [
    "df.plot.scatter(figsize=(16,9),x='length',y='dist_total')"
   ]
  },
  {
   "cell_type": "code",
   "execution_count": 171,
   "metadata": {},
   "outputs": [
    {
     "data": {
      "text/plain": [
       "<matplotlib.axes._subplots.AxesSubplot at 0x17d9f507240>"
      ]
     },
     "execution_count": 171,
     "metadata": {},
     "output_type": "execute_result"
    },
    {
     "data": {
      "image/png": "[encoded data removed]",
      "text/plain": [
       "<Figure size 1152x648 with 1 Axes>"
      ]
     },
     "metadata": {
      "needs_background": "light"
     },
     "output_type": "display_data"
    }
   ],
   "source": [
    "df.plot.scatter(figsize=(16,9),x='weight',y='dist_total')"
   ]
  },
  {
   "cell_type": "code",
   "execution_count": 168,
   "metadata": {},
   "outputs": [],
   "source": [
    "notwofive = df[df.weight < 15000]"
   ]
  },
  {
   "cell_type": "code",
   "execution_count": 169,
   "metadata": {},
   "outputs": [
    {
     "data": {
      "text/plain": [
       "<matplotlib.axes._subplots.AxesSubplot at 0x17d9f49b128>"
      ]
     },
     "execution_count": 169,
     "metadata": {},
     "output_type": "execute_result"
    },
    {
     "data": {
      "image/png": "[encoded data removed]",
      "text/plain": [
       "<Figure size 1152x648 with 1 Axes>"
      ]
     },
     "metadata": {
      "needs_background": "light"
     },
     "output_type": "display_data"
    }
   ],
   "source": [
    "notwofive.plot.scatter(figsize=(16,9),x='weight',y='dist_total')"
   ]
  },
  {
   "cell_type": "code",
   "execution_count": 174,
   "metadata": {},
   "outputs": [
    {
     "data": {
      "text/plain": [
       "<matplotlib.axes._subplots.AxesSubplot at 0x17d9f60f4e0>"
      ]
     },
     "execution_count": 174,
     "metadata": {},
     "output_type": "execute_result"
    },
    {
     "data": {
      "image/png": "[encoded data removed]",
      "text/plain": [
       "<Figure size 1152x648 with 1 Axes>"
      ]
     },
     "metadata": {
      "needs_background": "light"
     },
     "output_type": "display_data"
    }
   ],
   "source": [
    "longestpinging.plot.scatter(figsize=(16,9),x='id',y='days',color=longestpinging.colour)"
   ]
  },
  {
   "cell_type": "code",
   "execution_count": 159,
   "metadata": {},
   "outputs": [],
   "source": []
  },
  {
   "cell_type": "code",
   "execution_count": null,
   "metadata": {},
   "outputs": [],
   "source": []
  }
 ],
 "metadata": {
  "kernelspec": {
   "display_name": "Python 3",
   "language": "python",
   "name": "python3"
  },
  "language_info": {
   "codemirror_mode": {
    "name": "ipython",
    "version": 3
   },
   "file_extension": ".py",
   "mimetype": "text/x-python",
   "name": "python",
   "nbconvert_exporter": "python",
   "pygments_lexer": "ipython3",
   "version": "3.7.3"
  },
  "toc": {
   "base_numbering": 1,
   "nav_menu": {},
   "number_sections": true,
   "sideBar": true,
   "skip_h1_title": false,
   "title_cell": "Table of Contents",
   "title_sidebar": "Contents",
   "toc_cell": false,
   "toc_position": {
    "height": "calc(100% - 180px)",
    "left": "10px",
    "top": "150px",
    "width": "256px"
   },
   "toc_section_display": true,
   "toc_window_display": true
  }
 },
 "nbformat": 4,
 "nbformat_minor": 2
}
